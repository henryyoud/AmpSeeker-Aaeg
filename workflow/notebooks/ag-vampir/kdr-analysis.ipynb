{
 "cells": [
  {
   "cell_type": "code",
   "execution_count": 1,
   "id": "c1548fbc",
   "metadata": {
    "tags": [
     "remove-input"
    ]
   },
   "outputs": [],
   "source": [
    "import numpy as np\n",
    "import pandas as pd\n",
    "import allel\n",
    "import re"
   ]
  },
  {
   "cell_type": "code",
   "execution_count": 64,
   "id": "907d8f16",
   "metadata": {
    "tags": [
     "remove-input",
     "parameters"
    ]
   },
   "outputs": [],
   "source": [
    "dataset = 'test-agvampir'\n",
    "metadata_path = '../../../.test/results/config/metadata.qcpass.tsv'\n",
    "kdr_marker_snps_path = '../../../resources/ag-vampir/Kdr_marker_SNPs.csv'\n",
    "vcf_path = f\"../../../.test/results/vcfs/targets/{dataset}.annot.vcf\"\n",
    "cohort_cols = 'location,taxon'\n",
    "wkdir = \"../../../.test/\""
   ]
  },
  {
   "cell_type": "code",
   "execution_count": 65,
   "id": "34463131",
   "metadata": {
    "tags": [
     "remove-input"
    ]
   },
   "outputs": [],
   "source": [
    "import sys\n",
    "import os\n",
    "sys.path.append(os.path.join(wkdir, 'workflow'))\n",
    "import ampseekertools as amp\n",
    "\n",
    "import warnings\n",
    "warnings.filterwarnings('ignore')"
   ]
  },
  {
   "cell_type": "markdown",
   "id": "d83db822",
   "metadata": {
    "tags": [
     "remove-input"
    ]
   },
   "source": [
    "### *Kdr* origins and diplotype clustering\n",
    "\n",
    "This notebook determines the origin of Kdr for each sample, and performs diplotype clustering.  "
   ]
  },
  {
   "cell_type": "code",
   "execution_count": 66,
   "id": "257966e1",
   "metadata": {
    "tags": [
     "remove-input"
    ]
   },
   "outputs": [],
   "source": [
    "cohort_cols = cohort_cols.split(\",\")\n",
    "\n",
    "hap_def = pd.read_csv(kdr_marker_snps_path, sep = '\\t', index_col = 1)\n",
    "hap_def['variant_pos'] = hap_def.index.str.replace('.*:', '', regex = True).astype('int')"
   ]
  },
  {
   "cell_type": "code",
   "execution_count": 67,
   "id": "8beaef71",
   "metadata": {
    "tags": [
     "remove-input"
    ]
   },
   "outputs": [],
   "source": [
    "#### The functions for making the kdr background calls\n",
    "# Determine kdr F origin for a genotype\n",
    "def _F_kdr_origin_gen(genotypes, clean = True):\n",
    "    if 'sample_name' in genotypes.index:\n",
    "        sample_name = genotypes['sample_name']\n",
    "    else:\n",
    "        sample_name = genotypes.name\n",
    "    # Check for the 995F mutations\n",
    "    if pd.isnull(genotypes['kdr-995F']):\n",
    "        kdr_F_origins = 'F:unknown'\n",
    "    elif genotypes['kdr-995F'] == 'AA':\n",
    "        kdr_F_origins = 'F:wt_hom'\n",
    "    elif genotypes['kdr-995F'] == 'AT':\n",
    "        kdr_F_origins = 'F:het'\n",
    "    elif genotypes['kdr-995F'] == 'TT':\n",
    "        kdr_F_origins = 'F:hom'\n",
    "    else:\n",
    "        print(f'Unexpected kdr F genotype. {sample_name} {genotypes[\"kdr-995F\"]}')\n",
    "        kdr_F_origins = 'Fail. Unexpected kdr F genotype'\n",
    "    # If the individual has Fkdr, find out its origins\n",
    "    # For F homozygotes\n",
    "    if kdr_F_origins == 'F:hom':\n",
    "        if pd.isnull(genotypes['Def-F1']):\n",
    "            kdr_F_origins = f'{kdr_F_origins},F1?'\n",
    "        elif genotypes['Def-F1'] == 'AA':\n",
    "            kdr_F_origins = f'{kdr_F_origins},F1_hom'\n",
    "        elif genotypes['Def-F1'] == 'AG':\n",
    "            kdr_F_origins = f'{kdr_F_origins},F1_het'\n",
    "        #\n",
    "        if pd.isnull(genotypes['Def-F2']):\n",
    "            kdr_F_origins = f'{kdr_F_origins},F2?'\n",
    "        elif genotypes['Def-F2'] == 'AA':\n",
    "            kdr_F_origins = f'{kdr_F_origins},F2_hom'\n",
    "        elif genotypes['Def-F2'] == 'AG':\n",
    "            kdr_F_origins = f'{kdr_F_origins},F2_het'\n",
    "        #\n",
    "        if pd.isnull(genotypes['Def-F3F4-2']):\n",
    "            kdr_F_origins = f'{kdr_F_origins},F3F4?'\n",
    "        elif genotypes['Def-F3F4-2'] == 'TT':\n",
    "            if pd.isnull(genotypes['Def-F3']):\n",
    "                kdr_F_origins = f'{kdr_F_origins},(F3F4)_hom'\n",
    "            elif genotypes['Def-F3'] == 'CC':\n",
    "                kdr_F_origins = f'{kdr_F_origins},F3_hom'\n",
    "            elif genotypes['Def-F3'] == 'CG':\n",
    "                kdr_F_origins = f'{kdr_F_origins},F3_het,F4_het'\n",
    "            elif genotypes['Def-F3'] == 'GG':\n",
    "                kdr_F_origins = f'{kdr_F_origins},F4_hom'\n",
    "        elif genotypes['Def-F3F4-2'] == 'AT':\n",
    "            if pd.isnull(genotypes['Def-F3']):\n",
    "                kdr_F_origins = f'{kdr_F_origins},(F3F4)_het'\n",
    "            elif genotypes['Def-F3'] == 'CC':\n",
    "                kdr_F_origins = f'Fail. Genotypes suggest that sample {sample_name} is heterozygote for F3F4, but homozygote for F3.'\n",
    "            elif genotypes['Def-F3'] == 'CG':\n",
    "                kdr_F_origins = f'{kdr_F_origins},F3_het'\n",
    "            elif genotypes['Def-F3'] == 'GG':\n",
    "                kdr_F_origins = f'{kdr_F_origins},F4_het'\n",
    "        #\n",
    "        if pd.isnull(genotypes['Def-F5-2']):\n",
    "            kdr_F_origins = f'{kdr_F_origins},F5?'\n",
    "        elif genotypes['Def-F5-2'] == 'GG':\n",
    "            kdr_F_origins = f'{kdr_F_origins},F5_hom'\n",
    "        elif genotypes['Def-F5-2'] == 'AG':\n",
    "            kdr_F_origins = f'{kdr_F_origins},F5_het'\n",
    "    # for F heterozygotes\n",
    "    elif kdr_F_origins == 'F:het':\n",
    "        if pd.isnull(genotypes['Def-F1']):\n",
    "            kdr_F_origins = f'{kdr_F_origins},F1?'\n",
    "        elif genotypes['Def-F1'] == 'AA':\n",
    "            kdr_F_origins = f'Fail. Genotypes suggest that sample {sample_name} is heterozygote for F kdr, but homozygote for F1.'\n",
    "        elif genotypes['Def-F1'] == 'AG':\n",
    "            kdr_F_origins = f'{kdr_F_origins},F1_het'\n",
    "        #\n",
    "        if pd.isnull(genotypes['Def-F2']):\n",
    "            kdr_F_origins = f'{kdr_F_origins},F2?'\n",
    "        elif genotypes['Def-F2'] == 'AA':\n",
    "            kdr_F_origins = f'Fail. Genotypes suggest that sample {sample_name} is heterozygote for F kdr, but homozygote for F2.'\n",
    "        elif genotypes['Def-F2'] == 'AG':\n",
    "            kdr_F_origins = f'{kdr_F_origins},F2_het'\n",
    "        #\n",
    "        if pd.isnull(genotypes['Def-F3F4-2']):\n",
    "            kdr_F_origins = f'{kdr_F_origins},F3F4?'\n",
    "        elif genotypes['Def-F3F4-2'] == 'TT':\n",
    "            kdr_F_origins = f'Fail. Genotypes suggest that sample {sample_name} is heterozygote for F kdr, but homozygote for F3F4.'\n",
    "        elif genotypes['Def-F3F4-2'] == 'AT':\n",
    "            if pd.isnull(genotypes['Def-F3']):\n",
    "                kdr_F_origins = f'{kdr_F_origins},(F3F4)_het'\n",
    "            elif genotypes['Def-F3'] == 'CC':\n",
    "                kdr_F_origins = f'Fail. Genotypes suggest that sample {sample_name} is heterozygote for F kdr and F3F4, but homozygote for F3.'\n",
    "            elif genotypes['Def-F3'] == 'CG':\n",
    "                kdr_F_origins = f'{kdr_F_origins},F3_het'\n",
    "            elif genotypes['Def-F3'] == 'GG':\n",
    "                kdr_F_origins = f'{kdr_F_origins},F4_het'\n",
    "        #\n",
    "        if pd.isnull(genotypes['Def-F5-2']):\n",
    "            kdr_F_origins = f'{kdr_F_origins},F5?'\n",
    "        elif genotypes['Def-F5-2'] == 'GG':\n",
    "            kdr_F_origins = f'Fail. Genotypes suggest that sample {sample_name} is heterozygote for F kdr, but homozygote for F5.'\n",
    "        elif genotypes['Def-F5-2'] == 'AG':\n",
    "            kdr_F_origins = f'{kdr_F_origins},F5_het'\n",
    "    if clean:\n",
    "        return(_kdr_gen_cleanup(kdr_F_origins))\n",
    "    else:\n",
    "        return(kdr_F_origins)\n",
    "\n",
    "\n",
    "# Determine kdr S origin for a genotype\n",
    "def _S_kdr_origin_gen(genotypes, clean = True, alternate_S4S5 = False):\n",
    "    if 'sample_name' in genotypes.index:\n",
    "        sample_name = genotypes['sample_name']\n",
    "    else:\n",
    "        sample_name = genotypes.name\n",
    "    # Check for the 995S mutations\n",
    "    if pd.isnull(genotypes['kdr-995S']):\n",
    "        kdr_S_origins = 'S:unknown'\n",
    "    elif genotypes['kdr-995S'] == 'TT':\n",
    "        kdr_S_origins = 'S:wt_hom'\n",
    "    elif genotypes['kdr-995S'] == 'CT':\n",
    "        kdr_S_origins = 'S:het'\n",
    "    elif genotypes['kdr-995S'] == 'CC':\n",
    "        kdr_S_origins = 'S:hom'\n",
    "    else:\n",
    "        print(f'Unexpected kdr S genotype. {sample_name} {genotypes[\"kdr-995S\"]}')\n",
    "        kdr_S_origins = 'Fail. Unexpected kdr S genotype'\n",
    "    # If the individual has Skdr, find out its origins\n",
    "    # For S homozygotes\n",
    "    if kdr_S_origins == 'S:hom':\n",
    "        if pd.isnull(genotypes['Def-S1-3']):\n",
    "            kdr_S_origins = f'{kdr_S_origins},S1?'\n",
    "        elif genotypes['Def-S1-3'] == 'CC':\n",
    "            kdr_S_origins = f'{kdr_S_origins},S1_hom'\n",
    "        elif genotypes['Def-S1-3'] == 'CT':\n",
    "            kdr_S_origins = f'{kdr_S_origins},S1_het'\n",
    "        #\n",
    "        if pd.isnull(genotypes['Def-S2S4']):\n",
    "            kdr_S_origins = f'{kdr_S_origins},S2S4?'\n",
    "        elif genotypes['Def-S2S4'] == 'TT':\n",
    "            if pd.isnull(genotypes['Def-S2-4']):\n",
    "                kdr_S_origins = f'{kdr_S_origins},(S2S4)_hom'\n",
    "            elif genotypes['Def-S2-4'] == 'AA':\n",
    "                kdr_S_origins = f'{kdr_S_origins},S2_hom'\n",
    "            elif genotypes['Def-S2-4'] == 'AT':\n",
    "                kdr_S_origins = f'{kdr_S_origins},S2_het,S4_het'\n",
    "            elif genotypes['Def-S2-4'] == 'TT':\n",
    "                kdr_S_origins = f'{kdr_S_origins},S4_hom'\n",
    "        elif genotypes['Def-S2S4'] == 'CT':\n",
    "            if pd.isnull(genotypes['Def-S2-4']):\n",
    "                kdr_S_origins = f'{kdr_S_origins},(S2S4)_het'\n",
    "            elif genotypes['Def-S2-4'] == 'AA':\n",
    "                kdr_S_origins = f'Fail. Genotypes suggest that sample {sample_name} is heterozygote for S2S4, but homozygote for S2.'\n",
    "            elif genotypes['Def-S2-4'] == 'AT':\n",
    "                kdr_S_origins = f'{kdr_S_origins},S2_het'\n",
    "            elif genotypes['Def-S2-4'] == 'TT':\n",
    "                kdr_S_origins = f'{kdr_S_origins},S4_het'\n",
    "        #\n",
    "        if pd.isnull(genotypes['Def-S3']):\n",
    "            kdr_S_origins = f'{kdr_S_origins},S3?'\n",
    "        elif genotypes['Def-S3'] == 'GG':\n",
    "            kdr_S_origins = f'{kdr_S_origins},S3_hom'\n",
    "        elif genotypes['Def-S3'] == 'GT':\n",
    "            kdr_S_origins = f'{kdr_S_origins},S3_het'\n",
    "        # \n",
    "        if alternate_S4S5:\n",
    "            if pd.isnull(genotypes['Def-S4S5-2']):\n",
    "                kdr_S_origins = f'{kdr_S_origins},S4S5?'\n",
    "            elif genotypes['Def-S4S5-2'] == 'TT':\n",
    "                if pd.isnull(genotypes['Def-S5']):\n",
    "                    kdr_S_origins = f'{kdr_S_origins},(S4S5)_hom'\n",
    "                elif genotypes['Def-S5'] == 'CC':\n",
    "                    kdr_S_origins = f'{kdr_S_origins},S5_hom'\n",
    "                elif genotypes['Def-S5'] == 'AC':\n",
    "                    kdr_S_origins = f'{kdr_S_origins},S5_het,S4_het'\n",
    "                elif genotypes['Def-S5'] == 'AA':\n",
    "                    kdr_S_origins = f'{kdr_S_origins},S4_hom'\n",
    "            elif genotypes['Def-S4S5-2'] == 'GT':\n",
    "                if pd.isnull(genotypes['Def-S5']):\n",
    "                    kdr_S_origins = f'{kdr_S_origins},(S4S5)_het'\n",
    "                elif genotypes['Def-S5'] == 'CC':\n",
    "                    kdr_S_origins = f'Fail. Genotypes suggest that sample {sample_name} is heterozygote for S4S5, but homozygote for S5.'\n",
    "                elif genotypes['Def-S5'] == 'AC':\n",
    "                    kdr_S_origins = f'{kdr_S_origins},S5_het'\n",
    "                elif genotypes['Def-S5'] == 'AA':\n",
    "                    kdr_S_origins = f'{kdr_S_origins},S4_het'\n",
    "        else :\n",
    "            if pd.isnull(genotypes['Def-S4S5']):\n",
    "                kdr_S_origins = f'{kdr_S_origins},S4S5?'\n",
    "            elif genotypes['Def-S4S5'] == 'CC':\n",
    "                if pd.isnull(genotypes['Def-S5']):\n",
    "                    kdr_S_origins = f'{kdr_S_origins},(S4S5)_hom'\n",
    "                elif genotypes['Def-S5'] == 'CC':\n",
    "                    kdr_S_origins = f'{kdr_S_origins},S5_hom'\n",
    "                elif genotypes['Def-S5'] == 'AC':\n",
    "                    kdr_S_origins = f'{kdr_S_origins},S4_het,S5_het'\n",
    "                elif genotypes['Def-S5'] == 'AA':\n",
    "                    kdr_S_origins = f'{kdr_S_origins},S4_hom'\n",
    "            elif genotypes['Def-S4S5'] == 'CT':\n",
    "                if pd.isnull(genotypes['Def-S5']):\n",
    "                    kdr_S_origins = f'{kdr_S_origins},(S4S5)_het'\n",
    "                elif genotypes['Def-S5'] == 'CC':\n",
    "                    kdr_S_origins = f'Fail. Genotypes suggest that sample {sample_name} is heterozygote for S4S5, but homozygote for S5.'\n",
    "                elif genotypes['Def-S5'] == 'AC':\n",
    "                    kdr_S_origins = f'{kdr_S_origins},S5_het'\n",
    "                elif genotypes['Def-S5'] == 'AA':\n",
    "                    kdr_S_origins = f'{kdr_S_origins},S4_het'\n",
    "    # for S heterozygotes\n",
    "    elif kdr_S_origins == 'S:het':\n",
    "        if pd.isnull(genotypes['Def-S1-3']):\n",
    "            kdr_S_origins = f'{kdr_S_origins},S1?'\n",
    "        elif genotypes['Def-S1-3'] == 'CC':\n",
    "            kdr_S_origins = f'Fail. Genotypes suggest that sample {sample_name} is heterozygote for S kdr, but homozygote for S1.'\n",
    "        elif genotypes['Def-S1-3'] == 'CT':\n",
    "            kdr_S_origins = f'{kdr_S_origins},S1_het'\n",
    "        #\n",
    "        if pd.isnull(genotypes['Def-S2S4']):\n",
    "            kdr_S_origins = f'{kdr_S_origins},S2S4?'\n",
    "        elif genotypes['Def-S2S4'] == 'TT':\n",
    "            kdr_S_origins = f'Fail. Genotypes suggest that sample {sample_name} is heterozygote for S kdr, but homozygote for S2S4.'\n",
    "        elif genotypes['Def-S2S4'] == 'CT':\n",
    "            if pd.isnull(genotypes['Def-S2-4']):\n",
    "                kdr_S_origins = f'{kdr_S_origins},(S2S4)_het'\n",
    "            elif genotypes['Def-S2-4'] == 'AA':\n",
    "                kdr_S_origins = f'Fail. Genotypes suggest that sample {sample_name} is heterozygote for S kdr and S2S4, but homozygote for S2.'\n",
    "            elif genotypes['Def-S2-4'] == 'AT':\n",
    "                kdr_S_origins = f'{kdr_S_origins},S2_het'\n",
    "            elif genotypes['Def-S2-4'] == 'TT':\n",
    "                kdr_S_origins = f'{kdr_S_origins},S4_het'\n",
    "        #\n",
    "        if pd.isnull(genotypes['Def-S3']):\n",
    "            kdr_S_origins = f'{kdr_S_origins},S3?'\n",
    "        elif genotypes['Def-S3'] == 'GG':\n",
    "            kdr_S_origins = f'Fail. Genotypes suggest that sample {sample_name} is heterozygote for S kdr, but homozygote for S3.'\n",
    "        elif genotypes['Def-S3'] == 'GT':\n",
    "            kdr_S_origins = f'{kdr_S_origins},S3_het'\n",
    "        # \n",
    "        if alternate_S4S5:\n",
    "            if pd.isnull(genotypes['Def-S4S5_2']):\n",
    "                kdr_S_origins = f'{kdr_S_origins},S4S5?'\n",
    "            elif genotypes['Def-S4S5-2'] == 'TT':\n",
    "                kdr_S_origins = f'Fail. Genotypes suggest that sample {sample_name} is heterozygote for S kdr, but homozygote for S4S5.'\n",
    "            elif genotypes['Def-S4S5-2'] == 'GT':\n",
    "                if pd.isnull(genotypes['Def-S5']):\n",
    "                    kdr_S_origins = f'{kdr_S_origins},(S4S5)_het'\n",
    "                elif genotypes['Def-S5'] == 'CC':\n",
    "                    kdr_S_origins = f'Fail. Genotypes suggest that sample {sample_name} is heterozygote for S kdr and S4S5, but homozygote for S5.'\n",
    "                elif genotypes['Def-S5'] == 'AC':\n",
    "                    kdr_S_origins = f'{kdr_S_origins},S5_het'\n",
    "                elif genotypes['Def-S5'] == 'AA':\n",
    "                    kdr_S_origins = f'{kdr_S_origins},S4_het'\n",
    "        else :\n",
    "            if pd.isnull(genotypes['Def-S4S5']):\n",
    "                kdr_S_origins = f'{kdr_S_origins},S4S5?'\n",
    "            elif genotypes['Def-S4S5'] == 'CC':\n",
    "                kdr_S_origins = f'Fail. Genotypes suggest that sample {sample_name} is heterozygote for S kdr, but homozygote for S4S5.'\n",
    "            elif genotypes['Def-S4S5'] == 'CT':\n",
    "                if pd.isnull(genotypes['Def-S5']):\n",
    "                    kdr_S_origins = f'{kdr_S_origins},(S4S5)_het'\n",
    "                elif genotypes['Def-S5'] == 'CC':\n",
    "                    return(f'Fail. Genotypes suggest that sample {sample_name} is heterozygote for S kdr and S4S5, but homozygote for S5.')\n",
    "                elif genotypes['Def-S5'] == 'AC':\n",
    "                    kdr_S_origins = f'{kdr_S_origins},S5_het'\n",
    "                elif genotypes['Def-S5'] == 'AA':\n",
    "                    kdr_S_origins = f'{kdr_S_origins},S4_het'\n",
    "    if clean:\n",
    "        return(_kdr_gen_cleanup(kdr_S_origins))\n",
    "    else:\n",
    "        return(kdr_S_origins)\n",
    "\n",
    "def _402_kdr_origin_gen(genotypes, clean = True):\n",
    "    if 'sample_name' in genotypes.index:\n",
    "        sample_name = genotypes['sample_name']\n",
    "    else:\n",
    "        sample_name = genotypes.name\n",
    "    # Check for the 995F mutations\n",
    "    if pd.isnull(genotypes['kdr-402L']):\n",
    "        kdr_402_origins = '402:unknown'\n",
    "    elif genotypes['kdr-402L'] == 'GG':\n",
    "        kdr_402_origins = '402:wt_hom'\n",
    "    elif genotypes['kdr-402L'] == 'CG':\n",
    "        kdr_402_origins = '402:het,402LC_het'\n",
    "    elif genotypes['kdr-402L'] == 'GT':\n",
    "        kdr_402_origins = '402:het,402LT_het'\n",
    "    elif genotypes['kdr-402L'] == 'CT':\n",
    "        kdr_402_origins = '402:hom,402LC_het,402LT_het'\n",
    "    elif genotypes['kdr-402L'] == 'CC':\n",
    "        kdr_402_origins = '402:hom,402LC_hom'\n",
    "    elif genotypes['kdr-402L'] == 'TT':\n",
    "        kdr_402_origins = '402:hom,402LT_hom'\n",
    "    else:\n",
    "        print(f'Unexpected kdr 402 genotype. {sample_name} {genotypes[\"kdr-402L\"]}')\n",
    "        kdr_402_origins = 'Fail. Unexpected kdr 402 genotype'\n",
    "        \n",
    "    if clean:\n",
    "        return(_kdr_gen_cleanup(kdr_402_origins))\n",
    "    else:\n",
    "        return(kdr_402_origins)\n",
    "\n",
    "# The initial output of the kdr_origin function can be a little messy, since it outputs all of the \n",
    "# information that it could or couldn't obtain. This function tidies it up a bit. \n",
    "def _kdr_gen_cleanup(kdr_origin_str):\n",
    "    if re.search('Fail', kdr_origin_str):\n",
    "        return('?,?')\n",
    "    if re.search('wt', kdr_origin_str):\n",
    "        return('wt,wt')\n",
    "    kdr_type = re.findall('.*(?=:)', kdr_origin_str)[0]\n",
    "    outcomes = kdr_origin_str.split(',')\n",
    "    origins = np.unique(outcomes[1:])\n",
    "    established_origins = [o for o in origins if not re.search(r'\\?', o)]\n",
    "    # Remove \"_het\" and \"_hom\" text\n",
    "    established_origins = [re.sub('_het', '', o) for o in established_origins]\n",
    "    # Now double up each _hom entry. this is cludgy, but coudn't find a more elegant way\n",
    "    for i in range(len(established_origins)):\n",
    "        o = established_origins[i]\n",
    "        if re.search('_hom', o):\n",
    "            o = re.sub('_hom', '', o)\n",
    "            established_origins[i] = o\n",
    "            established_origins.append(o)\n",
    "    if re.search('hom', outcomes[0]):\n",
    "        if len(established_origins) == 1:\n",
    "            return(f'{kdr_type},{established_origins[0]}')\n",
    "        elif len(established_origins) == 2:\n",
    "            return(','.join(established_origins))\n",
    "        else:\n",
    "            return(f'{kdr_type},{kdr_type}')\n",
    "    if re.search('het', outcomes[0]):\n",
    "        if len(established_origins) == 1:\n",
    "            return(f'wt,{established_origins[0]}')\n",
    "        else:\n",
    "            return(f'wt,{kdr_type}')\n",
    "    else:\n",
    "        return('?,?')\n",
    "\n",
    "\n",
    "# Single function to call both the F and S origins for a given haplotype. This function determines\n",
    "# from the look of the genotype table whether it represents genotypes or haplotypes, and calls \n",
    "# the appropriate function. \n",
    "def kdr_origin(genotypes, alternate_S4S5 = False, clean = True, include_402 = None):\n",
    "    if 'sample_name' in genotypes.index:\n",
    "        sample_name = genotypes['sample_name']\n",
    "    else:\n",
    "        sample_name = genotypes.name\n",
    "    if include_402 == None:\n",
    "        if 'kdr-402L' in genotypes.index:\n",
    "            include_402 = True\n",
    "        else:\n",
    "            include_402 = False\n",
    "    if include_402 == False:\n",
    "        kdr_origins = pd.DataFrame({'kdr_F_origin': [_F_kdr_origin_gen(genotypes, clean)], \n",
    "                                    'kdr_S_origin': [_S_kdr_origin_gen(genotypes, clean, alternate_S4S5)]\n",
    "                                    }, index = [sample_name]\n",
    "        \n",
    "        )\n",
    "    else:\n",
    "        kdr_origins = pd.DataFrame({'kdr_F_origin': [_F_kdr_origin_gen(genotypes, clean)], \n",
    "                                    'kdr_S_origin': [_S_kdr_origin_gen(genotypes, clean, alternate_S4S5)],\n",
    "                                    'kdr_402_origin': [_402_kdr_origin_gen(genotypes, clean)]\n",
    "                                    }, index = [sample_name]\n",
    "        )\n",
    "    return(kdr_origins)\n",
    "\n",
    "# From a pair of kdr origin calls (obtained by running the kdr_origin function  for each of \n",
    "# F and S, followed by kdr_hap_cleanup), output a single call combining the F and S calls. \n",
    "def get_single_gen_call(x):  \n",
    "    if 'kdr_402_origin' in x.index:\n",
    "        return(_get_single_gen_call_with_402(x))\n",
    "    else:\n",
    "        return(_get_single_gen_call_no_402(x))\n",
    "    \n",
    "def _get_single_gen_call_no_402(x): \n",
    "    if 'sample_name' in x.index:\n",
    "        sample_name = x['sample_name']\n",
    "    else:\n",
    "        sample_name = x.name\n",
    "    joined_calls = np.array(x['kdr_F_origin'].split(',') + x['kdr_S_origin'].split(','))\n",
    "    # There should be at least two 'wt' calls\n",
    "    if np.sum(joined_calls == 'wt') < 2:\n",
    "        print(f'Too many different mutant haplotype backgrounds in sample {sample_name}')\n",
    "        return('?,?')\n",
    "    # Otherwise, drop two wildtype calls\n",
    "    else:\n",
    "        which_drop = np.where(joined_calls == 'wt')[0][:2]\n",
    "        return(','.join(np.delete(joined_calls, which_drop)))\n",
    "\n",
    "def _get_single_gen_call_with_402(x): \n",
    "    if 'sample_name' in x.index:\n",
    "        sample_name = x['sample_name']\n",
    "    else:\n",
    "        sample_name = x.name\n",
    "    joined_calls = np.array(x['kdr_F_origin'].split(',') + \n",
    "                            x['kdr_S_origin'].split(',') +\n",
    "                            x['kdr_402_origin'].split(',')\n",
    "    )\n",
    "    # There should be at least four 'wt' calls\n",
    "    if np.sum(np.isin(joined_calls,  ['wt', '?'])) < 4:\n",
    "        print(f'Too many different mutant haplotype backgrounds in sample {sample_name}')\n",
    "        return('?,?')\n",
    "    # Otherwise, drop four wildtype calls\n",
    "    else:\n",
    "        which_drop = np.concatenate([\n",
    "            np.where(joined_calls == 'wt')[0],\n",
    "            np.where(joined_calls == '?')[0]\n",
    "        ])[:4]\n",
    "        return(','.join(np.delete(joined_calls, which_drop)))"
   ]
  },
  {
   "cell_type": "code",
   "execution_count": 76,
   "id": "fd1a611c",
   "metadata": {
    "tags": [
     "remove-input"
    ]
   },
   "outputs": [],
   "source": [
    "### Load metadata\n",
    "metadata = pd.read_csv(metadata_path, sep = '\\t')\n",
    "metadata = metadata.assign(taxon=metadata.taxon.fillna('UNKN'))"
   ]
  },
  {
   "cell_type": "code",
   "execution_count": 77,
   "id": "a5de2ea6",
   "metadata": {
    "tags": [
     "remove-input"
    ]
   },
   "outputs": [],
   "source": [
    "### Get the genotype calls\n",
    "### Filter the SNPs to just the ones useful for kdr origin analysis\n",
    "geno, pos, contig, metadata, ref, alt, ann = amp.load_vcf(vcf_path, metadata=metadata)\n",
    "samples = metadata.sample_id\n",
    "\n",
    "which_snps = (contig == '2L') & np.isin(pos, hap_def['variant_pos']) \n",
    "\n",
    "snp_calls = geno[which_snps, :, :]\n",
    "pos = pos[which_snps]\n",
    "alt = alt[which_snps, :]\n",
    "ref = ref[which_snps]"
   ]
  },
  {
   "cell_type": "code",
   "execution_count": 78,
   "id": "5f235e86",
   "metadata": {
    "tags": [
     "remove-input"
    ]
   },
   "outputs": [],
   "source": [
    "### Convert genotype calls to nucleotides\n",
    "# combine ref and alt into a single matrix, and add a column of '?' at the end, so that \n",
    "# any genotype call of -1 (missing) draws the '?' character'\n",
    "snp_alleles = np.concatenate([np.reshape(ref, (len(ref), 1)), \n",
    "                              alt,\n",
    "                              np.full((len(ref), 1), '?')], \n",
    "                             axis = 1)\n",
    "\n",
    "# Convert numberic calls to nucleotides, and sort each pair of nucleotides alphabetically\n",
    "# (so, eg, the genotype 'TA' becomes 'AT')\n",
    "snp_genotypes_3d = snp_alleles[\n",
    "    np.array(np.arange(snp_alleles.shape[0])).reshape(snp_alleles.shape[0], 1, 1), \n",
    "    snp_calls\n",
    "]\n",
    "snp_genotypes = np.apply_along_axis(lambda x: ''.join(np.sort(x)), 2, snp_genotypes_3d)\n",
    "\n",
    "# Store results in data frame\n",
    "hap_def.index = hap_def['variant_pos']\n",
    "gen_df = pd.DataFrame(\n",
    "    np.transpose(snp_genotypes), \n",
    "    index = samples,\n",
    "    columns = hap_def.loc[pos, 'SNP name']\n",
    ")"
   ]
  },
  {
   "cell_type": "code",
   "execution_count": 79,
   "id": "b8eb15c6",
   "metadata": {
    "scrolled": true,
    "tags": [
     "remove-input"
    ]
   },
   "outputs": [],
   "source": [
    "### Obtain kdr origin calls\n",
    "kdr_origins = pd.concat([kdr_origin(gen_df.iloc[i]) for i in range(gen_df.shape[0])])\n",
    "kdr_origins['kdr_origin'] = kdr_origins.apply(\n",
    "    get_single_gen_call, axis = 1\n",
    ")"
   ]
  },
  {
   "cell_type": "code",
   "execution_count": 83,
   "id": "22f47c9a",
   "metadata": {
    "tags": [
     "remove-input"
    ]
   },
   "outputs": [],
   "source": [
    "#### Merge kdr origins with metadata and write to file. \n",
    "kdr_origins_df = pd.merge(kdr_origins, metadata.set_index(\"sample_id\"), left_index = True, right_index = True).rename_axis(\"sample_id\")\n",
    "kdr_origins_df.to_csv(f'{wkdir}/results/kdr-origins/kdr_origins.tsv', sep='\\t')"
   ]
  },
  {
   "cell_type": "code",
   "execution_count": 84,
   "id": "8ac2402e",
   "metadata": {
    "scrolled": true,
    "tags": [
     "remove-input"
    ]
   },
   "outputs": [],
   "source": [
    "### Create a table where each row is a haplotype instead of a genotype (although these are genotype-based calls, \n",
    "# so order within each sample will be random, so they can be used for, say, mapping, but not haplotype clustering). Write this table to file.\n",
    "kdr_genhap_origins_df = pd.DataFrame({'kdr_origin': ','.join(list(kdr_origins['kdr_origin'])).split(',')},\n",
    "                                     index = np.repeat(kdr_origins.index, 2)\n",
    ")\n",
    "kdr_genhap_origins_df = pd.merge(kdr_genhap_origins_df, metadata.set_index(\"sample_id\"), left_index=True, right_index=True)\n",
    "kdr_genhap_origins_df.to_csv(f'{wkdir}/results/kdr-origins/kdr_genhap_origins.tsv', sep = '\\t')"
   ]
  },
  {
   "cell_type": "code",
   "execution_count": 85,
   "id": "6d3b20e5",
   "metadata": {
    "scrolled": false,
    "tags": [
     "remove-input"
    ]
   },
   "outputs": [
    {
     "name": "stdout",
     "output_type": "stream",
     "text": [
      "Counts of origins:\n"
     ]
    },
    {
     "data": {
      "text/html": [
       "<div>\n",
       "<style scoped>\n",
       "    .dataframe tbody tr th:only-of-type {\n",
       "        vertical-align: middle;\n",
       "    }\n",
       "\n",
       "    .dataframe tbody tr th {\n",
       "        vertical-align: top;\n",
       "    }\n",
       "\n",
       "    .dataframe thead th {\n",
       "        text-align: right;\n",
       "    }\n",
       "</style>\n",
       "<table border=\"1\" class=\"dataframe\">\n",
       "  <thead>\n",
       "    <tr style=\"text-align: right;\">\n",
       "      <th></th>\n",
       "      <th>kdr_origin</th>\n",
       "      <th>F1</th>\n",
       "    </tr>\n",
       "    <tr>\n",
       "      <th>location</th>\n",
       "      <th>taxon</th>\n",
       "      <th></th>\n",
       "    </tr>\n",
       "  </thead>\n",
       "  <tbody>\n",
       "    <tr>\n",
       "      <th>Avrankou</th>\n",
       "      <th>coluzzii</th>\n",
       "      <td>6</td>\n",
       "    </tr>\n",
       "    <tr>\n",
       "      <th>Madina_North</th>\n",
       "      <th>gambiae</th>\n",
       "      <td>14</td>\n",
       "    </tr>\n",
       "  </tbody>\n",
       "</table>\n",
       "</div>"
      ],
      "text/plain": [
       "kdr_origin             F1\n",
       "location     taxon       \n",
       "Avrankou     coluzzii   6\n",
       "Madina_North gambiae   14"
      ]
     },
     "metadata": {},
     "output_type": "display_data"
    },
    {
     "name": "stdout",
     "output_type": "stream",
     "text": [
      "\n",
      "\n",
      "Frequencies of known origins:\n"
     ]
    },
    {
     "data": {
      "text/html": [
       "<div>\n",
       "<style scoped>\n",
       "    .dataframe tbody tr th:only-of-type {\n",
       "        vertical-align: middle;\n",
       "    }\n",
       "\n",
       "    .dataframe tbody tr th {\n",
       "        vertical-align: top;\n",
       "    }\n",
       "\n",
       "    .dataframe thead th {\n",
       "        text-align: right;\n",
       "    }\n",
       "</style>\n",
       "<table border=\"1\" class=\"dataframe\">\n",
       "  <thead>\n",
       "    <tr style=\"text-align: right;\">\n",
       "      <th></th>\n",
       "      <th>kdr_origin</th>\n",
       "      <th>F1</th>\n",
       "    </tr>\n",
       "    <tr>\n",
       "      <th>location</th>\n",
       "      <th>taxon</th>\n",
       "      <th></th>\n",
       "    </tr>\n",
       "  </thead>\n",
       "  <tbody>\n",
       "    <tr>\n",
       "      <th>Avrankou</th>\n",
       "      <th>coluzzii</th>\n",
       "      <td>1.0</td>\n",
       "    </tr>\n",
       "    <tr>\n",
       "      <th>Madina_North</th>\n",
       "      <th>gambiae</th>\n",
       "      <td>1.0</td>\n",
       "    </tr>\n",
       "  </tbody>\n",
       "</table>\n",
       "</div>"
      ],
      "text/plain": [
       "kdr_origin              F1\n",
       "location     taxon        \n",
       "Avrankou     coluzzii  1.0\n",
       "Madina_North gambiae   1.0"
      ]
     },
     "metadata": {},
     "output_type": "display_data"
    }
   ],
   "source": [
    "cols_keep = cohort_cols + ['kdr_origin']\n",
    "# Count the number of occurances of each haplotypes in each population\n",
    "# \"values\" could be any column that isn't specified elsewhere in the function. But it's \n",
    "# not allowed to be blank, so we had to pick one. \n",
    "pop_origin_counts = kdr_genhap_origins_df[cols_keep].pivot_table(columns='kdr_origin', \n",
    "                                                                    index=cohort_cols,\n",
    "                                                                    aggfunc=len\n",
    "                                                                   ).fillna(0).astype(int)\n",
    "pop_origin_counts.to_excel(f'{wkdir}/results/kdr-origins/kdr_origin_counts.xlsx')\n",
    "# A function to round a number up to n_signif significant figures\n",
    "def signif(x, n_figs):\n",
    "    power = 10 ** np.floor(np.log10(np.abs(x).clip(1e-200)))\n",
    "    rounded = np.round(x / power, n_figs - 1) * power\n",
    "    return rounded\n",
    "\n",
    "# Calculate row totals of non-\"?\" columns\n",
    "if '?' in pop_origin_counts.columns:\n",
    "    pop_origin_counts = pop_origin_counts.drop('?', axis = 1)\n",
    "\n",
    "row_totals = pop_origin_counts.sum(axis = 1)\n",
    "# Calculate origin frequencies. We exclude the \"?\" calls for this\n",
    "pop_origin_freqs = pop_origin_counts.div(row_totals, axis = 0)\n",
    "pop_origin_freqs.to_excel(f'{wkdir}/results/kdr-origins/kdr_origin_freqs.xlsx')\n",
    "# Round to 2 significant figures\n",
    "pop_origin_freqs = signif(pop_origin_freqs, 2)\n",
    "print('Counts of origins:')\n",
    "display(pop_origin_counts)\n",
    "print('\\n\\nFrequencies of known origins:')\n",
    "display(pop_origin_freqs)"
   ]
  },
  {
   "cell_type": "markdown",
   "id": "4a6e5a9a",
   "metadata": {},
   "source": [
    "#### Diplotype clustering"
   ]
  },
  {
   "cell_type": "code",
   "execution_count": 86,
   "id": "bb0482d1",
   "metadata": {
    "tags": [
     "remove-input"
    ]
   },
   "outputs": [],
   "source": [
    "import allel\n",
    "import numpy as np\n",
    "import pandas as pd \n",
    "import plotly.express as px\n",
    "\n",
    "def _dipclust_concat_subplots(\n",
    "    figures,\n",
    "    width,\n",
    "    height,\n",
    "    row_heights,\n",
    "    title,\n",
    "    xaxis_range,\n",
    "):\n",
    "    from plotly.subplots import make_subplots  # type: ignore\n",
    "    import plotly.graph_objects as go  # type: ignore\n",
    "\n",
    "    # make subplots\n",
    "    fig = make_subplots(\n",
    "        rows=len(figures),\n",
    "        cols=1,\n",
    "        shared_xaxes=True,\n",
    "        vertical_spacing=0.02,\n",
    "        row_heights=row_heights,\n",
    "    )\n",
    "\n",
    "    for i, figure in enumerate(figures):\n",
    "        if isinstance(figure, go.Figure):\n",
    "            # This is a figure, access the traces within it.\n",
    "            for trace in range(len(figure[\"data\"])):\n",
    "                fig.append_trace(figure[\"data\"][trace], row=i + 1, col=1)\n",
    "        else:\n",
    "            # Assume this is a trace, add directly.\n",
    "            fig.append_trace(figure, row=i + 1, col=1)\n",
    "\n",
    "    fig.update_xaxes(visible=False)\n",
    "    fig.update_layout(\n",
    "        title=title,\n",
    "        width=width,\n",
    "        height=height,\n",
    "        hovermode=\"closest\",\n",
    "        plot_bgcolor=\"white\",\n",
    "        xaxis_range=xaxis_range,\n",
    "    )\n",
    "\n",
    "    return fig\n",
    "\n",
    "def plot_dendrogram(\n",
    "    dist,\n",
    "    linkage_method,\n",
    "    count_sort,\n",
    "    distance_sort,\n",
    "    render_mode,\n",
    "    width,\n",
    "    height,\n",
    "    title,\n",
    "    line_width,\n",
    "    line_color,\n",
    "    marker_size,\n",
    "    leaf_data,\n",
    "    leaf_hover_name,\n",
    "    leaf_hover_data,\n",
    "    leaf_color,\n",
    "    leaf_symbol,\n",
    "    leaf_y,\n",
    "    leaf_color_discrete_map,\n",
    "    leaf_category_orders,\n",
    "    template,\n",
    "    y_axis_title,\n",
    "    y_axis_buffer,\n",
    "):\n",
    "    import scipy.cluster.hierarchy as sch\n",
    "    # Hierarchical clustering.\n",
    "    Z = sch.linkage(dist, method=linkage_method)\n",
    "\n",
    "    # Compute the dendrogram but don't plot it.\n",
    "    dend = sch.dendrogram(\n",
    "        Z,\n",
    "        count_sort=count_sort,\n",
    "        distance_sort=distance_sort,\n",
    "        no_plot=True,\n",
    "    )\n",
    "\n",
    "    # Compile the line coordinates into a single dataframe.\n",
    "    icoord = dend[\"icoord\"]\n",
    "    dcoord = dend[\"dcoord\"]\n",
    "    line_segments_x = []\n",
    "    line_segments_y = []\n",
    "    for ik, dk in zip(icoord, dcoord):\n",
    "        # Adding None here breaks up the lines.\n",
    "        line_segments_x += ik + [None]\n",
    "        line_segments_y += dk + [None]\n",
    "    df_line_segments = pd.DataFrame({\"x\": line_segments_x, \"y\": line_segments_y})\n",
    "\n",
    "    # Convert X coordinates to haplotype indices (scipy multiplies coordinates by 10).\n",
    "    df_line_segments[\"x\"] = (df_line_segments[\"x\"] - 5) / 10\n",
    "\n",
    "    # Plot the lines.\n",
    "    fig = px.line(\n",
    "        df_line_segments,\n",
    "        x=\"x\",\n",
    "        y=\"y\",\n",
    "        render_mode=render_mode,\n",
    "        template=template,\n",
    "    )\n",
    "\n",
    "    # Reorder leaf data to align with dendrogram.\n",
    "    leaves = dend[\"leaves\"]\n",
    "    n_leaves = len(leaves)\n",
    "    leaf_data = leaf_data.iloc[leaves]\n",
    "\n",
    "    # Add scatter plot to draw the leaves.\n",
    "    fig.add_traces(\n",
    "        list(\n",
    "            px.scatter(\n",
    "                data_frame=leaf_data,\n",
    "                x=np.arange(n_leaves),\n",
    "                y=np.repeat(leaf_y, n_leaves),\n",
    "                color=leaf_color,\n",
    "                symbol=leaf_symbol,\n",
    "                render_mode=render_mode,\n",
    "                hover_name=leaf_hover_name,\n",
    "                hover_data=leaf_hover_data,\n",
    "                template=template,\n",
    "                color_discrete_map=leaf_color_discrete_map,\n",
    "                category_orders=leaf_category_orders,\n",
    "            ).select_traces()\n",
    "        )\n",
    "    )\n",
    "\n",
    "    # Style the lines and markers.\n",
    "    line_props = dict(\n",
    "        width=line_width,\n",
    "        color=line_color,\n",
    "    )\n",
    "    marker_props = dict(\n",
    "        size=marker_size,\n",
    "    )\n",
    "    fig.update_traces(line=line_props, marker=marker_props)\n",
    "\n",
    "    # Style the figure.\n",
    "    fig.update_layout(\n",
    "        width=width,\n",
    "        height=height,\n",
    "        title=title,\n",
    "        autosize=True,\n",
    "        hovermode=\"closest\",\n",
    "        # I cannot get the xaxis title to appear below the plot, and when\n",
    "        # it's above the plot it often overlaps the title, so hiding it\n",
    "        # for now.\n",
    "        xaxis_title=None,\n",
    "        yaxis_title=y_axis_title,\n",
    "        showlegend=True,\n",
    "    )\n",
    "\n",
    "    # Style axes.\n",
    "    fig.update_xaxes(\n",
    "        mirror=False,\n",
    "        showgrid=False,\n",
    "        showline=False,\n",
    "        showticklabels=False,\n",
    "        ticks=\"\",\n",
    "        range=(-2, n_leaves + 2),\n",
    "    )\n",
    "    fig.update_yaxes(\n",
    "        mirror=False,\n",
    "        showgrid=False,\n",
    "        showline=False,\n",
    "        showticklabels=True,\n",
    "        ticks=\"outside\",\n",
    "        range=(leaf_y - y_axis_buffer, np.max(dcoord) + y_axis_buffer),\n",
    "    )\n",
    "\n",
    "    return fig, leaf_data"
   ]
  },
  {
   "cell_type": "code",
   "execution_count": null,
   "id": "1f53cf42",
   "metadata": {
    "tags": [
     "remove-input"
    ]
   },
   "outputs": [],
   "source": [
    "df_samples = pd.read_csv(metadata_path, sep=\"\\t\")\n",
    "df_kdr = pd.read_csv(f'{wkdir}/results/kdr-origins/kdr_origins.tsv', sep=\"\\t\", index_col=0)\n",
    "df_kdr = df_kdr.reset_index().rename(columns={'level_0': 'sample_id'})\n",
    "\n",
    "vcf_path = f\"{wkdir}/results/vcfs/amplicons/{dataset}.annot.vcf\"\n",
    "geno, pos, contig, df_samples, ref, alt, ann = amp.load_vcf(vcf_path, metadata=df_samples)\n",
    "\n",
    "import json\n",
    "with open(f\"{wkdir}/results/config/metadata_colours.json\", 'r') as f:\n",
    "    color_mapping = json.load(f)\n",
    "\n",
    "bed_path = f\"{wkdir}/config/ag-vampir.bed\"\n",
    "df_bed = pd.read_csv(bed_path, sep=\"\\t\", header=None, names=['contig', 'start', 'end', 'amplicon_id', 'mutation', 'ref', 'alt'])\n",
    "\n",
    "# subset to VGSC SNPs\n",
    "vgsc_mask = df_bed.eval('mutation.str.contains(\"Vgsc\")').to_numpy()\n",
    "df_vgsc = df_bed[vgsc_mask]\n",
    "vgsc_start = df_vgsc['start'].min() - 200 \n",
    "vgsc_end = df_vgsc['end'].max() + 200\n",
    "vgsc_mask = np.logical_and(contig == '2L', np.logical_and(pos >= vgsc_start, pos <= vgsc_end))\n",
    "geno_vgsc = geno.compress(vgsc_mask, axis=0)\n",
    "pos_vgsc = pos[vgsc_mask]\n",
    "\n",
    "# remove invariant sites \n",
    "ac = geno_vgsc.count_alleles()\n",
    "is_seg = ac.is_segregating()\n",
    "geno_vgsc = geno_vgsc.compress(is_seg, axis=0)\n",
    "\n",
    "# remove highly missing sites \n",
    "missing_mask = geno_vgsc.is_missing().mean(axis=1) > 0.1\n",
    "missing_mask.sum()\n",
    "geno_vgsc = geno_vgsc.compress(~missing_mask, axis=0)\n",
    "\n",
    "# distances \n",
    "from scipy.spatial.distance import squareform\n",
    "\n",
    "ac = allel.GenotypeArray(geno_vgsc).to_allele_counts(max_allele=3)\n",
    "X = np.ascontiguousarray(np.swapaxes(ac.values, 0, 1))\n",
    "dists = amp.multiallelic_diplotype_pdist(X, metric=amp.multiallelic_diplotype_mean_cityblock)\n",
    "dist_matrix = squareform(dists)\n",
    "df_dists = pd.DataFrame(dist_matrix, index=df_samples.index, columns=df_samples.index)\n",
    "na_mask = df_dists.isna().any()\n",
    "df_dists = df_dists.loc[~na_mask, ~na_mask]\n",
    "\n",
    "df_samples = df_samples.reset_index().merge(df_kdr[['sample_id', 'kdr_origin']])"
   ]
  },
  {
   "cell_type": "code",
   "execution_count": 89,
   "id": "f1e9d2cb",
   "metadata": {
    "tags": [
     "remove-input"
    ]
   },
   "outputs": [],
   "source": [
    "import scipy\n",
    "\n",
    "distance_metric = 'cityblock'\n",
    "leaf_color = 'location'\n",
    "\n",
    "fig_dendro, leaf_data = plot_dendrogram(\n",
    "    dist=scipy.spatial.distance.squareform(df_dists.values),\n",
    "    linkage_method=\"complete\",\n",
    "    count_sort=True,\n",
    "    distance_sort=False,\n",
    "    render_mode=\"svg\",\n",
    "    width=800,\n",
    "    height=500,\n",
    "    title=f\"{dataset} | Vgsc diplotype clustering\",\n",
    "    line_width=0.6,\n",
    "    line_color='black',\n",
    "    marker_size=5,\n",
    "    leaf_data=df_samples[~na_mask.to_numpy()],\n",
    "    leaf_hover_name=\"sample_id\",\n",
    "    leaf_hover_data=cohort_cols + ['kdr_origin'],\n",
    "    leaf_color=leaf_color,\n",
    "    leaf_symbol=None,\n",
    "    leaf_y=-0.01,\n",
    "    leaf_color_discrete_map=color_mapping[leaf_color],\n",
    "    leaf_category_orders=None,\n",
    "    template=\"simple_white\",\n",
    "    y_axis_title=f\"Distance ({distance_metric})\",\n",
    "    y_axis_buffer=0.1,\n",
    ")\n",
    "\n",
    "\n",
    "df_snps = pd.read_excel(f\"{wkdir}/results/vcfs/targets/{dataset}-snps.xlsx\")\n",
    "df_vgsc_snps = df_snps.query(\"CHROM == '2L' and POS >= @vgsc_start and POS <= @vgsc_end\")\n",
    "df_vgsc_snps = df_bed.rename(columns={'end':'POS', 'contig':'CHROM'})[['CHROM', 'POS', 'mutation']].merge(df_vgsc_snps, on=['CHROM', 'POS'])\n",
    "df_vgsc_snps = df_vgsc_snps.set_index('mutation').iloc[:, 6:]\n",
    "df_vgsc_snps = df_vgsc_snps.query(\"~mutation.str.contains('AIM')\").query(\"~mutation.str.contains('tag')\")\n",
    "df_vgsc_snps = df_vgsc_snps.loc[:, leaf_data.sample_id.to_list()]\n",
    "df_vgsc_snps.index = df_vgsc_snps.index.str.replace(\"Vgsc_\", \"\")"
   ]
  },
  {
   "cell_type": "code",
   "execution_count": 91,
   "id": "affe0b60",
   "metadata": {
    "tags": [
     "remove-input"
    ]
   },
   "outputs": [
    {
     "data": {
      "application/vnd.plotly.v1+json": {
       "config": {
        "plotlyServerURL": "https://plot.ly"
       },
       "data": [
        {
         "hovertemplate": "x=%{x}<br>y=%{y}<extra></extra>",
         "legendgroup": "",
         "line": {
          "color": "black",
          "dash": "solid",
          "width": 0.6
         },
         "marker": {
          "size": 5,
          "symbol": "circle"
         },
         "mode": "lines",
         "name": "",
         "orientation": "v",
         "showlegend": false,
         "type": "scatter",
         "x": [
          2,
          2,
          3,
          3,
          null,
          1,
          1,
          2.5,
          2.5,
          null,
          4,
          4,
          5,
          5,
          null,
          8,
          8,
          9,
          9,
          null,
          7,
          7,
          8.5,
          8.5,
          null,
          6,
          6,
          7.75,
          7.75,
          null,
          4.5,
          4.5,
          6.875,
          6.875,
          null,
          1.75,
          1.75,
          5.6875,
          5.6875,
          null,
          0,
          0,
          3.71875,
          3.71875,
          null
         ],
         "xaxis": "x",
         "y": [
          0,
          0.1111111119389534,
          0.1111111119389534,
          0,
          null,
          0,
          0.3333333432674408,
          0.3333333432674408,
          0.1111111119389534,
          null,
          0,
          0.2222222238779068,
          0.2222222238779068,
          0,
          null,
          0,
          0,
          0,
          0,
          null,
          0,
          0.1111111119389534,
          0.1111111119389534,
          0,
          null,
          0,
          0.3333333432674408,
          0.3333333432674408,
          0.1111111119389534,
          null,
          0.2222222238779068,
          0.4444444477558136,
          0.4444444477558136,
          0.3333333432674408,
          null,
          0.3333333432674408,
          0.6666666865348816,
          0.6666666865348816,
          0.4444444477558136,
          null,
          0,
          1.6666666269302368,
          1.6666666269302368,
          0.6666666865348816,
          null
         ],
         "yaxis": "y"
        },
        {
         "customdata": [
          [
           "Madina_North",
           "gambiae",
           "F1,F1"
          ],
          [
           "Madina_North",
           "gambiae",
           "F1,F1"
          ],
          [
           "Madina_North",
           "gambiae",
           "F1,F1"
          ],
          [
           "Madina_North",
           "gambiae",
           "F1,F1"
          ],
          [
           "Madina_North",
           "gambiae",
           "F1,F1"
          ],
          [
           "Madina_North",
           "gambiae",
           "F1,F1"
          ],
          [
           "Madina_North",
           "gambiae",
           "F1,F1"
          ]
         ],
         "hovertemplate": "<b>%{hovertext}</b><br><br>location=%{customdata[0]}<br>x=%{x}<br>y=%{y}<br>taxon=%{customdata[1]}<br>kdr_origin=%{customdata[2]}<extra></extra>",
         "hovertext": [
          "ERR3058582",
          "ERR3058572",
          "ERR3058542",
          "ERR3058562",
          "ERR3058522",
          "ERR3058552",
          "ERR3058532"
         ],
         "legendgroup": "Madina_North",
         "line": {
          "color": "black",
          "width": 0.6
         },
         "marker": {
          "color": "#88CCEE",
          "size": 5,
          "symbol": "circle"
         },
         "mode": "markers",
         "name": "Madina_North",
         "orientation": "v",
         "showlegend": true,
         "type": "scatter",
         "x": [
          0,
          1,
          2,
          3,
          4,
          5,
          6
         ],
         "xaxis": "x",
         "y": [
          -0.01,
          -0.01,
          -0.01,
          -0.01,
          -0.01,
          -0.01,
          -0.01
         ],
         "yaxis": "y"
        },
        {
         "customdata": [
          [
           "Avrankou",
           "coluzzii",
           "F1,F1"
          ],
          [
           "Avrankou",
           "coluzzii",
           "F1,F1"
          ],
          [
           "Avrankou",
           "coluzzii",
           "F1,F1"
          ]
         ],
         "hovertemplate": "<b>%{hovertext}</b><br><br>location=%{customdata[0]}<br>x=%{x}<br>y=%{y}<br>taxon=%{customdata[1]}<br>kdr_origin=%{customdata[2]}<extra></extra>",
         "hovertext": [
          "ERR3059002",
          "ERR3058982",
          "ERR3058992"
         ],
         "legendgroup": "Avrankou",
         "line": {
          "color": "black",
          "width": 0.6
         },
         "marker": {
          "color": "#CC6677",
          "size": 5,
          "symbol": "circle"
         },
         "mode": "markers",
         "name": "Avrankou",
         "orientation": "v",
         "showlegend": true,
         "type": "scatter",
         "x": [
          7,
          8,
          9
         ],
         "xaxis": "x",
         "y": [
          -0.01,
          -0.01,
          -0.01
         ],
         "yaxis": "y"
        },
        {
         "hovertemplate": "<b>%{hovertext}</b><br><br>kdr_origin=F1,F1<br>x=%{x}<br>y=%{y}<extra></extra>",
         "hovertext": [
          "ERR3058582",
          "ERR3058572",
          "ERR3058542",
          "ERR3058562",
          "ERR3058522",
          "ERR3058552",
          "ERR3058532",
          "ERR3059002",
          "ERR3058982",
          "ERR3058992"
         ],
         "legendgroup": "kdr_origin",
         "marker": {
          "color": "#1F77B4",
          "symbol": "square"
         },
         "mode": "markers",
         "name": "F1,F1",
         "orientation": "v",
         "showlegend": true,
         "type": "scatter",
         "x": [
          0,
          1,
          2,
          3,
          4,
          5,
          6,
          7,
          8,
          9
         ],
         "xaxis": "x2",
         "y": [
          0,
          0,
          0,
          0,
          0,
          0,
          0,
          0,
          0,
          0
         ],
         "yaxis": "y2"
        },
        {
         "colorscale": [
          [
           0,
           "rgb(255,255,255)"
          ],
          [
           0.125,
           "rgb(240,240,240)"
          ],
          [
           0.25,
           "rgb(217,217,217)"
          ],
          [
           0.375,
           "rgb(189,189,189)"
          ],
          [
           0.5,
           "rgb(150,150,150)"
          ],
          [
           0.625,
           "rgb(115,115,115)"
          ],
          [
           0.75,
           "rgb(82,82,82)"
          ],
          [
           0.875,
           "rgb(37,37,37)"
          ],
          [
           1,
           "rgb(0,0,0)"
          ]
         ],
         "showlegend": false,
         "showscale": false,
         "type": "heatmap",
         "xaxis": "x3",
         "y": [
          "Heterozygosity"
         ],
         "yaxis": "y3",
         "z": [
          [
           0.6111111111111112,
           0.2222222222222222,
           0.2222222222222222,
           0.16666666666666666,
           0.16666666666666666,
           0.16666666666666666,
           0.16666666666666666,
           0.1111111111111111,
           0.05555555555555555,
           0.05555555555555555
          ]
         ]
        },
        {
         "colorscale": [
          [
           0,
           "rgb(255,255,255)"
          ],
          [
           0.125,
           "rgb(240,240,240)"
          ],
          [
           0.25,
           "rgb(217,217,217)"
          ],
          [
           0.375,
           "rgb(189,189,189)"
          ],
          [
           0.5,
           "rgb(150,150,150)"
          ],
          [
           0.625,
           "rgb(115,115,115)"
          ],
          [
           0.75,
           "rgb(82,82,82)"
          ],
          [
           0.875,
           "rgb(37,37,37)"
          ],
          [
           1,
           "rgb(0,0,0)"
          ]
         ],
         "showlegend": false,
         "showscale": false,
         "type": "heatmap",
         "xaxis": "x4",
         "y": [
          "P1874L",
          "I1868T",
          "V1853I",
          "A1746S",
          "N1570Y",
          "T791M"
         ],
         "yaxis": "y4",
         "z": [
          [
           0,
           0,
           0,
           0,
           0,
           1,
           1,
           0,
           0,
           0
          ],
          [
           0,
           1,
           0,
           0,
           1,
           0,
           0,
           0,
           0,
           0
          ],
          [
           2,
           0,
           1,
           1,
           1,
           1,
           0,
           0,
           0,
           0
          ],
          [
           0,
           1,
           1,
           1,
           0,
           0,
           0,
           0,
           0,
           0
          ],
          [
           0,
           0,
           0,
           0,
           0,
           0,
           1,
           0,
           0,
           0
          ],
          [
           0,
           1,
           1,
           1,
           0,
           0,
           0,
           0,
           0,
           0
          ]
         ]
        }
       ],
       "layout": {
        "height": 520,
        "hovermode": "closest",
        "plot_bgcolor": "white",
        "shapes": [
         {
          "line": {
           "color": "grey",
           "width": 1
          },
          "type": "line",
          "x0": 0,
          "x1": 1,
          "xref": "x4 domain",
          "y0": -0.5,
          "y1": -0.5,
          "yref": "y4"
         },
         {
          "line": {
           "color": "grey",
           "width": 1
          },
          "type": "line",
          "x0": 0,
          "x1": 1,
          "xref": "x4 domain",
          "y0": 0.5,
          "y1": 0.5,
          "yref": "y4"
         },
         {
          "line": {
           "color": "grey",
           "width": 1
          },
          "type": "line",
          "x0": 0,
          "x1": 1,
          "xref": "x4 domain",
          "y0": 1.5,
          "y1": 1.5,
          "yref": "y4"
         },
         {
          "line": {
           "color": "grey",
           "width": 1
          },
          "type": "line",
          "x0": 0,
          "x1": 1,
          "xref": "x4 domain",
          "y0": 2.5,
          "y1": 2.5,
          "yref": "y4"
         },
         {
          "line": {
           "color": "grey",
           "width": 1
          },
          "type": "line",
          "x0": 0,
          "x1": 1,
          "xref": "x4 domain",
          "y0": 3.5,
          "y1": 3.5,
          "yref": "y4"
         },
         {
          "line": {
           "color": "grey",
           "width": 1
          },
          "type": "line",
          "x0": 0,
          "x1": 1,
          "xref": "x4 domain",
          "y0": 4.5,
          "y1": 4.5,
          "yref": "y4"
         },
         {
          "line": {
           "color": "grey",
           "width": 1
          },
          "type": "line",
          "x0": 0,
          "x1": 1,
          "xref": "x4 domain",
          "y0": 5.5,
          "y1": 5.5,
          "yref": "y4"
         }
        ],
        "template": {
         "data": {
          "bar": [
           {
            "error_x": {
             "color": "#2a3f5f"
            },
            "error_y": {
             "color": "#2a3f5f"
            },
            "marker": {
             "line": {
              "color": "#E5ECF6",
              "width": 0.5
             },
             "pattern": {
              "fillmode": "overlay",
              "size": 10,
              "solidity": 0.2
             }
            },
            "type": "bar"
           }
          ],
          "barpolar": [
           {
            "marker": {
             "line": {
              "color": "#E5ECF6",
              "width": 0.5
             },
             "pattern": {
              "fillmode": "overlay",
              "size": 10,
              "solidity": 0.2
             }
            },
            "type": "barpolar"
           }
          ],
          "carpet": [
           {
            "aaxis": {
             "endlinecolor": "#2a3f5f",
             "gridcolor": "white",
             "linecolor": "white",
             "minorgridcolor": "white",
             "startlinecolor": "#2a3f5f"
            },
            "baxis": {
             "endlinecolor": "#2a3f5f",
             "gridcolor": "white",
             "linecolor": "white",
             "minorgridcolor": "white",
             "startlinecolor": "#2a3f5f"
            },
            "type": "carpet"
           }
          ],
          "choropleth": [
           {
            "colorbar": {
             "outlinewidth": 0,
             "ticks": ""
            },
            "type": "choropleth"
           }
          ],
          "contour": [
           {
            "colorbar": {
             "outlinewidth": 0,
             "ticks": ""
            },
            "colorscale": [
             [
              0,
              "#0d0887"
             ],
             [
              0.1111111111111111,
              "#46039f"
             ],
             [
              0.2222222222222222,
              "#7201a8"
             ],
             [
              0.3333333333333333,
              "#9c179e"
             ],
             [
              0.4444444444444444,
              "#bd3786"
             ],
             [
              0.5555555555555556,
              "#d8576b"
             ],
             [
              0.6666666666666666,
              "#ed7953"
             ],
             [
              0.7777777777777778,
              "#fb9f3a"
             ],
             [
              0.8888888888888888,
              "#fdca26"
             ],
             [
              1,
              "#f0f921"
             ]
            ],
            "type": "contour"
           }
          ],
          "contourcarpet": [
           {
            "colorbar": {
             "outlinewidth": 0,
             "ticks": ""
            },
            "type": "contourcarpet"
           }
          ],
          "heatmap": [
           {
            "colorbar": {
             "outlinewidth": 0,
             "ticks": ""
            },
            "colorscale": [
             [
              0,
              "#0d0887"
             ],
             [
              0.1111111111111111,
              "#46039f"
             ],
             [
              0.2222222222222222,
              "#7201a8"
             ],
             [
              0.3333333333333333,
              "#9c179e"
             ],
             [
              0.4444444444444444,
              "#bd3786"
             ],
             [
              0.5555555555555556,
              "#d8576b"
             ],
             [
              0.6666666666666666,
              "#ed7953"
             ],
             [
              0.7777777777777778,
              "#fb9f3a"
             ],
             [
              0.8888888888888888,
              "#fdca26"
             ],
             [
              1,
              "#f0f921"
             ]
            ],
            "type": "heatmap"
           }
          ],
          "heatmapgl": [
           {
            "colorbar": {
             "outlinewidth": 0,
             "ticks": ""
            },
            "colorscale": [
             [
              0,
              "#0d0887"
             ],
             [
              0.1111111111111111,
              "#46039f"
             ],
             [
              0.2222222222222222,
              "#7201a8"
             ],
             [
              0.3333333333333333,
              "#9c179e"
             ],
             [
              0.4444444444444444,
              "#bd3786"
             ],
             [
              0.5555555555555556,
              "#d8576b"
             ],
             [
              0.6666666666666666,
              "#ed7953"
             ],
             [
              0.7777777777777778,
              "#fb9f3a"
             ],
             [
              0.8888888888888888,
              "#fdca26"
             ],
             [
              1,
              "#f0f921"
             ]
            ],
            "type": "heatmapgl"
           }
          ],
          "histogram": [
           {
            "marker": {
             "pattern": {
              "fillmode": "overlay",
              "size": 10,
              "solidity": 0.2
             }
            },
            "type": "histogram"
           }
          ],
          "histogram2d": [
           {
            "colorbar": {
             "outlinewidth": 0,
             "ticks": ""
            },
            "colorscale": [
             [
              0,
              "#0d0887"
             ],
             [
              0.1111111111111111,
              "#46039f"
             ],
             [
              0.2222222222222222,
              "#7201a8"
             ],
             [
              0.3333333333333333,
              "#9c179e"
             ],
             [
              0.4444444444444444,
              "#bd3786"
             ],
             [
              0.5555555555555556,
              "#d8576b"
             ],
             [
              0.6666666666666666,
              "#ed7953"
             ],
             [
              0.7777777777777778,
              "#fb9f3a"
             ],
             [
              0.8888888888888888,
              "#fdca26"
             ],
             [
              1,
              "#f0f921"
             ]
            ],
            "type": "histogram2d"
           }
          ],
          "histogram2dcontour": [
           {
            "colorbar": {
             "outlinewidth": 0,
             "ticks": ""
            },
            "colorscale": [
             [
              0,
              "#0d0887"
             ],
             [
              0.1111111111111111,
              "#46039f"
             ],
             [
              0.2222222222222222,
              "#7201a8"
             ],
             [
              0.3333333333333333,
              "#9c179e"
             ],
             [
              0.4444444444444444,
              "#bd3786"
             ],
             [
              0.5555555555555556,
              "#d8576b"
             ],
             [
              0.6666666666666666,
              "#ed7953"
             ],
             [
              0.7777777777777778,
              "#fb9f3a"
             ],
             [
              0.8888888888888888,
              "#fdca26"
             ],
             [
              1,
              "#f0f921"
             ]
            ],
            "type": "histogram2dcontour"
           }
          ],
          "mesh3d": [
           {
            "colorbar": {
             "outlinewidth": 0,
             "ticks": ""
            },
            "type": "mesh3d"
           }
          ],
          "parcoords": [
           {
            "line": {
             "colorbar": {
              "outlinewidth": 0,
              "ticks": ""
             }
            },
            "type": "parcoords"
           }
          ],
          "pie": [
           {
            "automargin": true,
            "type": "pie"
           }
          ],
          "scatter": [
           {
            "fillpattern": {
             "fillmode": "overlay",
             "size": 10,
             "solidity": 0.2
            },
            "type": "scatter"
           }
          ],
          "scatter3d": [
           {
            "line": {
             "colorbar": {
              "outlinewidth": 0,
              "ticks": ""
             }
            },
            "marker": {
             "colorbar": {
              "outlinewidth": 0,
              "ticks": ""
             }
            },
            "type": "scatter3d"
           }
          ],
          "scattercarpet": [
           {
            "marker": {
             "colorbar": {
              "outlinewidth": 0,
              "ticks": ""
             }
            },
            "type": "scattercarpet"
           }
          ],
          "scattergeo": [
           {
            "marker": {
             "colorbar": {
              "outlinewidth": 0,
              "ticks": ""
             }
            },
            "type": "scattergeo"
           }
          ],
          "scattergl": [
           {
            "marker": {
             "colorbar": {
              "outlinewidth": 0,
              "ticks": ""
             }
            },
            "type": "scattergl"
           }
          ],
          "scattermapbox": [
           {
            "marker": {
             "colorbar": {
              "outlinewidth": 0,
              "ticks": ""
             }
            },
            "type": "scattermapbox"
           }
          ],
          "scatterpolar": [
           {
            "marker": {
             "colorbar": {
              "outlinewidth": 0,
              "ticks": ""
             }
            },
            "type": "scatterpolar"
           }
          ],
          "scatterpolargl": [
           {
            "marker": {
             "colorbar": {
              "outlinewidth": 0,
              "ticks": ""
             }
            },
            "type": "scatterpolargl"
           }
          ],
          "scatterternary": [
           {
            "marker": {
             "colorbar": {
              "outlinewidth": 0,
              "ticks": ""
             }
            },
            "type": "scatterternary"
           }
          ],
          "surface": [
           {
            "colorbar": {
             "outlinewidth": 0,
             "ticks": ""
            },
            "colorscale": [
             [
              0,
              "#0d0887"
             ],
             [
              0.1111111111111111,
              "#46039f"
             ],
             [
              0.2222222222222222,
              "#7201a8"
             ],
             [
              0.3333333333333333,
              "#9c179e"
             ],
             [
              0.4444444444444444,
              "#bd3786"
             ],
             [
              0.5555555555555556,
              "#d8576b"
             ],
             [
              0.6666666666666666,
              "#ed7953"
             ],
             [
              0.7777777777777778,
              "#fb9f3a"
             ],
             [
              0.8888888888888888,
              "#fdca26"
             ],
             [
              1,
              "#f0f921"
             ]
            ],
            "type": "surface"
           }
          ],
          "table": [
           {
            "cells": {
             "fill": {
              "color": "#EBF0F8"
             },
             "line": {
              "color": "white"
             }
            },
            "header": {
             "fill": {
              "color": "#C8D4E3"
             },
             "line": {
              "color": "white"
             }
            },
            "type": "table"
           }
          ]
         },
         "layout": {
          "annotationdefaults": {
           "arrowcolor": "#2a3f5f",
           "arrowhead": 0,
           "arrowwidth": 1
          },
          "autotypenumbers": "strict",
          "coloraxis": {
           "colorbar": {
            "outlinewidth": 0,
            "ticks": ""
           }
          },
          "colorscale": {
           "diverging": [
            [
             0,
             "#8e0152"
            ],
            [
             0.1,
             "#c51b7d"
            ],
            [
             0.2,
             "#de77ae"
            ],
            [
             0.3,
             "#f1b6da"
            ],
            [
             0.4,
             "#fde0ef"
            ],
            [
             0.5,
             "#f7f7f7"
            ],
            [
             0.6,
             "#e6f5d0"
            ],
            [
             0.7,
             "#b8e186"
            ],
            [
             0.8,
             "#7fbc41"
            ],
            [
             0.9,
             "#4d9221"
            ],
            [
             1,
             "#276419"
            ]
           ],
           "sequential": [
            [
             0,
             "#0d0887"
            ],
            [
             0.1111111111111111,
             "#46039f"
            ],
            [
             0.2222222222222222,
             "#7201a8"
            ],
            [
             0.3333333333333333,
             "#9c179e"
            ],
            [
             0.4444444444444444,
             "#bd3786"
            ],
            [
             0.5555555555555556,
             "#d8576b"
            ],
            [
             0.6666666666666666,
             "#ed7953"
            ],
            [
             0.7777777777777778,
             "#fb9f3a"
            ],
            [
             0.8888888888888888,
             "#fdca26"
            ],
            [
             1,
             "#f0f921"
            ]
           ],
           "sequentialminus": [
            [
             0,
             "#0d0887"
            ],
            [
             0.1111111111111111,
             "#46039f"
            ],
            [
             0.2222222222222222,
             "#7201a8"
            ],
            [
             0.3333333333333333,
             "#9c179e"
            ],
            [
             0.4444444444444444,
             "#bd3786"
            ],
            [
             0.5555555555555556,
             "#d8576b"
            ],
            [
             0.6666666666666666,
             "#ed7953"
            ],
            [
             0.7777777777777778,
             "#fb9f3a"
            ],
            [
             0.8888888888888888,
             "#fdca26"
            ],
            [
             1,
             "#f0f921"
            ]
           ]
          },
          "colorway": [
           "#636efa",
           "#EF553B",
           "#00cc96",
           "#ab63fa",
           "#FFA15A",
           "#19d3f3",
           "#FF6692",
           "#B6E880",
           "#FF97FF",
           "#FECB52"
          ],
          "font": {
           "color": "#2a3f5f"
          },
          "geo": {
           "bgcolor": "white",
           "lakecolor": "white",
           "landcolor": "#E5ECF6",
           "showlakes": true,
           "showland": true,
           "subunitcolor": "white"
          },
          "hoverlabel": {
           "align": "left"
          },
          "hovermode": "closest",
          "mapbox": {
           "style": "light"
          },
          "paper_bgcolor": "white",
          "plot_bgcolor": "#E5ECF6",
          "polar": {
           "angularaxis": {
            "gridcolor": "white",
            "linecolor": "white",
            "ticks": ""
           },
           "bgcolor": "#E5ECF6",
           "radialaxis": {
            "gridcolor": "white",
            "linecolor": "white",
            "ticks": ""
           }
          },
          "scene": {
           "xaxis": {
            "backgroundcolor": "#E5ECF6",
            "gridcolor": "white",
            "gridwidth": 2,
            "linecolor": "white",
            "showbackground": true,
            "ticks": "",
            "zerolinecolor": "white"
           },
           "yaxis": {
            "backgroundcolor": "#E5ECF6",
            "gridcolor": "white",
            "gridwidth": 2,
            "linecolor": "white",
            "showbackground": true,
            "ticks": "",
            "zerolinecolor": "white"
           },
           "zaxis": {
            "backgroundcolor": "#E5ECF6",
            "gridcolor": "white",
            "gridwidth": 2,
            "linecolor": "white",
            "showbackground": true,
            "ticks": "",
            "zerolinecolor": "white"
           }
          },
          "shapedefaults": {
           "line": {
            "color": "#2a3f5f"
           }
          },
          "ternary": {
           "aaxis": {
            "gridcolor": "white",
            "linecolor": "white",
            "ticks": ""
           },
           "baxis": {
            "gridcolor": "white",
            "linecolor": "white",
            "ticks": ""
           },
           "bgcolor": "#E5ECF6",
           "caxis": {
            "gridcolor": "white",
            "linecolor": "white",
            "ticks": ""
           }
          },
          "title": {
           "x": 0.05
          },
          "xaxis": {
           "automargin": true,
           "gridcolor": "white",
           "linecolor": "white",
           "ticks": "",
           "title": {
            "standoff": 15
           },
           "zerolinecolor": "white",
           "zerolinewidth": 2
          },
          "yaxis": {
           "automargin": true,
           "gridcolor": "white",
           "linecolor": "white",
           "ticks": "",
           "title": {
            "standoff": 15
           },
           "zerolinecolor": "white",
           "zerolinewidth": 2
          }
         }
        },
        "title": {
         "text": "test-agvampir | Vgsc diplotype clustering"
        },
        "width": 800,
        "xaxis": {
         "anchor": "y",
         "domain": [
          0,
          1
         ],
         "matches": "x4",
         "range": [
          0,
          10
         ],
         "showticklabels": false,
         "visible": false
        },
        "xaxis2": {
         "anchor": "y2",
         "domain": [
          0,
          1
         ],
         "matches": "x4",
         "showticklabels": false,
         "visible": false
        },
        "xaxis3": {
         "anchor": "y3",
         "domain": [
          0,
          1
         ],
         "matches": "x4",
         "showticklabels": false,
         "visible": false
        },
        "xaxis4": {
         "anchor": "y4",
         "domain": [
          0,
          1
         ],
         "linecolor": "grey",
         "linewidth": 1,
         "mirror": true,
         "showline": true,
         "visible": false
        },
        "yaxis": {
         "anchor": "x",
         "domain": [
          0.3999999999999999,
          0.9999999999999999
         ],
         "title": {
          "text": "Distance (cityblock)"
         }
        },
        "yaxis2": {
         "anchor": "x2",
         "domain": [
          0.3399999999999999,
          0.3799999999999999
         ]
        },
        "yaxis3": {
         "anchor": "x3",
         "domain": [
          0.25999999999999995,
          0.31999999999999995
         ]
        },
        "yaxis4": {
         "anchor": "x4",
         "domain": [
          0,
          0.23999999999999996
         ],
         "linecolor": "grey",
         "linewidth": 1,
         "mirror": true,
         "showline": true,
         "title": {
          "text": "Vgsc mutations"
         }
        }
       }
      },
      "text/html": [
       "<div>                            <div id=\"72a6760a-65bf-4bc7-9944-0cb79f9f3df8\" class=\"plotly-graph-div\" style=\"height:520px; width:800px;\"></div>            <script type=\"text/javascript\">                require([\"plotly\"], function(Plotly) {                    window.PLOTLYENV=window.PLOTLYENV || {};                                    if (document.getElementById(\"72a6760a-65bf-4bc7-9944-0cb79f9f3df8\")) {                    Plotly.newPlot(                        \"72a6760a-65bf-4bc7-9944-0cb79f9f3df8\",                        [{\"hovertemplate\":\"x=%{x}\\u003cbr\\u003ey=%{y}\\u003cextra\\u003e\\u003c\\u002fextra\\u003e\",\"legendgroup\":\"\",\"line\":{\"color\":\"black\",\"dash\":\"solid\",\"width\":0.6},\"marker\":{\"size\":5,\"symbol\":\"circle\"},\"mode\":\"lines\",\"name\":\"\",\"orientation\":\"v\",\"showlegend\":false,\"x\":[2.0,2.0,3.0,3.0,null,1.0,1.0,2.5,2.5,null,4.0,4.0,5.0,5.0,null,8.0,8.0,9.0,9.0,null,7.0,7.0,8.5,8.5,null,6.0,6.0,7.75,7.75,null,4.5,4.5,6.875,6.875,null,1.75,1.75,5.6875,5.6875,null,0.0,0.0,3.71875,3.71875,null],\"xaxis\":\"x\",\"y\":[0.0,0.1111111119389534,0.1111111119389534,0.0,null,0.0,0.3333333432674408,0.3333333432674408,0.1111111119389534,null,0.0,0.2222222238779068,0.2222222238779068,0.0,null,0.0,0.0,0.0,0.0,null,0.0,0.1111111119389534,0.1111111119389534,0.0,null,0.0,0.3333333432674408,0.3333333432674408,0.1111111119389534,null,0.2222222238779068,0.4444444477558136,0.4444444477558136,0.3333333432674408,null,0.3333333432674408,0.6666666865348816,0.6666666865348816,0.4444444477558136,null,0.0,1.6666666269302368,1.6666666269302368,0.6666666865348816,null],\"yaxis\":\"y\",\"type\":\"scatter\"},{\"customdata\":[[\"Madina_North\",\"gambiae\",\"F1,F1\"],[\"Madina_North\",\"gambiae\",\"F1,F1\"],[\"Madina_North\",\"gambiae\",\"F1,F1\"],[\"Madina_North\",\"gambiae\",\"F1,F1\"],[\"Madina_North\",\"gambiae\",\"F1,F1\"],[\"Madina_North\",\"gambiae\",\"F1,F1\"],[\"Madina_North\",\"gambiae\",\"F1,F1\"]],\"hovertemplate\":\"\\u003cb\\u003e%{hovertext}\\u003c\\u002fb\\u003e\\u003cbr\\u003e\\u003cbr\\u003elocation=%{customdata[0]}\\u003cbr\\u003ex=%{x}\\u003cbr\\u003ey=%{y}\\u003cbr\\u003etaxon=%{customdata[1]}\\u003cbr\\u003ekdr_origin=%{customdata[2]}\\u003cextra\\u003e\\u003c\\u002fextra\\u003e\",\"hovertext\":[\"ERR3058582\",\"ERR3058572\",\"ERR3058542\",\"ERR3058562\",\"ERR3058522\",\"ERR3058552\",\"ERR3058532\"],\"legendgroup\":\"Madina_North\",\"line\":{\"color\":\"black\",\"width\":0.6},\"marker\":{\"color\":\"#88CCEE\",\"size\":5,\"symbol\":\"circle\"},\"mode\":\"markers\",\"name\":\"Madina_North\",\"orientation\":\"v\",\"showlegend\":true,\"x\":[0,1,2,3,4,5,6],\"xaxis\":\"x\",\"y\":[-0.01,-0.01,-0.01,-0.01,-0.01,-0.01,-0.01],\"yaxis\":\"y\",\"type\":\"scatter\"},{\"customdata\":[[\"Avrankou\",\"coluzzii\",\"F1,F1\"],[\"Avrankou\",\"coluzzii\",\"F1,F1\"],[\"Avrankou\",\"coluzzii\",\"F1,F1\"]],\"hovertemplate\":\"\\u003cb\\u003e%{hovertext}\\u003c\\u002fb\\u003e\\u003cbr\\u003e\\u003cbr\\u003elocation=%{customdata[0]}\\u003cbr\\u003ex=%{x}\\u003cbr\\u003ey=%{y}\\u003cbr\\u003etaxon=%{customdata[1]}\\u003cbr\\u003ekdr_origin=%{customdata[2]}\\u003cextra\\u003e\\u003c\\u002fextra\\u003e\",\"hovertext\":[\"ERR3059002\",\"ERR3058982\",\"ERR3058992\"],\"legendgroup\":\"Avrankou\",\"line\":{\"color\":\"black\",\"width\":0.6},\"marker\":{\"color\":\"#CC6677\",\"size\":5,\"symbol\":\"circle\"},\"mode\":\"markers\",\"name\":\"Avrankou\",\"orientation\":\"v\",\"showlegend\":true,\"x\":[7,8,9],\"xaxis\":\"x\",\"y\":[-0.01,-0.01,-0.01],\"yaxis\":\"y\",\"type\":\"scatter\"},{\"hovertemplate\":\"\\u003cb\\u003e%{hovertext}\\u003c\\u002fb\\u003e\\u003cbr\\u003e\\u003cbr\\u003ekdr_origin=F1,F1\\u003cbr\\u003ex=%{x}\\u003cbr\\u003ey=%{y}\\u003cextra\\u003e\\u003c\\u002fextra\\u003e\",\"hovertext\":[\"ERR3058582\",\"ERR3058572\",\"ERR3058542\",\"ERR3058562\",\"ERR3058522\",\"ERR3058552\",\"ERR3058532\",\"ERR3059002\",\"ERR3058982\",\"ERR3058992\"],\"legendgroup\":\"kdr_origin\",\"marker\":{\"color\":\"#1F77B4\",\"symbol\":\"square\"},\"mode\":\"markers\",\"name\":\"F1,F1\",\"orientation\":\"v\",\"showlegend\":true,\"x\":[0,1,2,3,4,5,6,7,8,9],\"xaxis\":\"x2\",\"y\":[0,0,0,0,0,0,0,0,0,0],\"yaxis\":\"y2\",\"type\":\"scatter\"},{\"colorscale\":[[0.0,\"rgb(255,255,255)\"],[0.125,\"rgb(240,240,240)\"],[0.25,\"rgb(217,217,217)\"],[0.375,\"rgb(189,189,189)\"],[0.5,\"rgb(150,150,150)\"],[0.625,\"rgb(115,115,115)\"],[0.75,\"rgb(82,82,82)\"],[0.875,\"rgb(37,37,37)\"],[1.0,\"rgb(0,0,0)\"]],\"showlegend\":false,\"showscale\":false,\"y\":[\"Heterozygosity\"],\"z\":[[0.6111111111111112,0.2222222222222222,0.2222222222222222,0.16666666666666666,0.16666666666666666,0.16666666666666666,0.16666666666666666,0.1111111111111111,0.05555555555555555,0.05555555555555555]],\"type\":\"heatmap\",\"xaxis\":\"x3\",\"yaxis\":\"y3\"},{\"colorscale\":[[0.0,\"rgb(255,255,255)\"],[0.125,\"rgb(240,240,240)\"],[0.25,\"rgb(217,217,217)\"],[0.375,\"rgb(189,189,189)\"],[0.5,\"rgb(150,150,150)\"],[0.625,\"rgb(115,115,115)\"],[0.75,\"rgb(82,82,82)\"],[0.875,\"rgb(37,37,37)\"],[1.0,\"rgb(0,0,0)\"]],\"showlegend\":false,\"showscale\":false,\"y\":[\"P1874L\",\"I1868T\",\"V1853I\",\"A1746S\",\"N1570Y\",\"T791M\"],\"z\":[[0.0,0.0,0.0,0.0,0.0,1.0,1.0,0.0,0.0,0.0],[0.0,1.0,0.0,0.0,1.0,0.0,0.0,0.0,0.0,0.0],[2.0,0.0,1.0,1.0,1.0,1.0,0.0,0.0,0.0,0.0],[0.0,1.0,1.0,1.0,0.0,0.0,0.0,0.0,0.0,0.0],[0.0,0.0,0.0,0.0,0.0,0.0,1.0,0.0,0.0,0.0],[0.0,1.0,1.0,1.0,0.0,0.0,0.0,0.0,0.0,0.0]],\"type\":\"heatmap\",\"xaxis\":\"x4\",\"yaxis\":\"y4\"}],                        {\"template\":{\"data\":{\"histogram2dcontour\":[{\"type\":\"histogram2dcontour\",\"colorbar\":{\"outlinewidth\":0,\"ticks\":\"\"},\"colorscale\":[[0.0,\"#0d0887\"],[0.1111111111111111,\"#46039f\"],[0.2222222222222222,\"#7201a8\"],[0.3333333333333333,\"#9c179e\"],[0.4444444444444444,\"#bd3786\"],[0.5555555555555556,\"#d8576b\"],[0.6666666666666666,\"#ed7953\"],[0.7777777777777778,\"#fb9f3a\"],[0.8888888888888888,\"#fdca26\"],[1.0,\"#f0f921\"]]}],\"choropleth\":[{\"type\":\"choropleth\",\"colorbar\":{\"outlinewidth\":0,\"ticks\":\"\"}}],\"histogram2d\":[{\"type\":\"histogram2d\",\"colorbar\":{\"outlinewidth\":0,\"ticks\":\"\"},\"colorscale\":[[0.0,\"#0d0887\"],[0.1111111111111111,\"#46039f\"],[0.2222222222222222,\"#7201a8\"],[0.3333333333333333,\"#9c179e\"],[0.4444444444444444,\"#bd3786\"],[0.5555555555555556,\"#d8576b\"],[0.6666666666666666,\"#ed7953\"],[0.7777777777777778,\"#fb9f3a\"],[0.8888888888888888,\"#fdca26\"],[1.0,\"#f0f921\"]]}],\"heatmap\":[{\"type\":\"heatmap\",\"colorbar\":{\"outlinewidth\":0,\"ticks\":\"\"},\"colorscale\":[[0.0,\"#0d0887\"],[0.1111111111111111,\"#46039f\"],[0.2222222222222222,\"#7201a8\"],[0.3333333333333333,\"#9c179e\"],[0.4444444444444444,\"#bd3786\"],[0.5555555555555556,\"#d8576b\"],[0.6666666666666666,\"#ed7953\"],[0.7777777777777778,\"#fb9f3a\"],[0.8888888888888888,\"#fdca26\"],[1.0,\"#f0f921\"]]}],\"heatmapgl\":[{\"type\":\"heatmapgl\",\"colorbar\":{\"outlinewidth\":0,\"ticks\":\"\"},\"colorscale\":[[0.0,\"#0d0887\"],[0.1111111111111111,\"#46039f\"],[0.2222222222222222,\"#7201a8\"],[0.3333333333333333,\"#9c179e\"],[0.4444444444444444,\"#bd3786\"],[0.5555555555555556,\"#d8576b\"],[0.6666666666666666,\"#ed7953\"],[0.7777777777777778,\"#fb9f3a\"],[0.8888888888888888,\"#fdca26\"],[1.0,\"#f0f921\"]]}],\"contourcarpet\":[{\"type\":\"contourcarpet\",\"colorbar\":{\"outlinewidth\":0,\"ticks\":\"\"}}],\"contour\":[{\"type\":\"contour\",\"colorbar\":{\"outlinewidth\":0,\"ticks\":\"\"},\"colorscale\":[[0.0,\"#0d0887\"],[0.1111111111111111,\"#46039f\"],[0.2222222222222222,\"#7201a8\"],[0.3333333333333333,\"#9c179e\"],[0.4444444444444444,\"#bd3786\"],[0.5555555555555556,\"#d8576b\"],[0.6666666666666666,\"#ed7953\"],[0.7777777777777778,\"#fb9f3a\"],[0.8888888888888888,\"#fdca26\"],[1.0,\"#f0f921\"]]}],\"surface\":[{\"type\":\"surface\",\"colorbar\":{\"outlinewidth\":0,\"ticks\":\"\"},\"colorscale\":[[0.0,\"#0d0887\"],[0.1111111111111111,\"#46039f\"],[0.2222222222222222,\"#7201a8\"],[0.3333333333333333,\"#9c179e\"],[0.4444444444444444,\"#bd3786\"],[0.5555555555555556,\"#d8576b\"],[0.6666666666666666,\"#ed7953\"],[0.7777777777777778,\"#fb9f3a\"],[0.8888888888888888,\"#fdca26\"],[1.0,\"#f0f921\"]]}],\"mesh3d\":[{\"type\":\"mesh3d\",\"colorbar\":{\"outlinewidth\":0,\"ticks\":\"\"}}],\"scatter\":[{\"fillpattern\":{\"fillmode\":\"overlay\",\"size\":10,\"solidity\":0.2},\"type\":\"scatter\"}],\"parcoords\":[{\"type\":\"parcoords\",\"line\":{\"colorbar\":{\"outlinewidth\":0,\"ticks\":\"\"}}}],\"scatterpolargl\":[{\"type\":\"scatterpolargl\",\"marker\":{\"colorbar\":{\"outlinewidth\":0,\"ticks\":\"\"}}}],\"bar\":[{\"error_x\":{\"color\":\"#2a3f5f\"},\"error_y\":{\"color\":\"#2a3f5f\"},\"marker\":{\"line\":{\"color\":\"#E5ECF6\",\"width\":0.5},\"pattern\":{\"fillmode\":\"overlay\",\"size\":10,\"solidity\":0.2}},\"type\":\"bar\"}],\"scattergeo\":[{\"type\":\"scattergeo\",\"marker\":{\"colorbar\":{\"outlinewidth\":0,\"ticks\":\"\"}}}],\"scatterpolar\":[{\"type\":\"scatterpolar\",\"marker\":{\"colorbar\":{\"outlinewidth\":0,\"ticks\":\"\"}}}],\"histogram\":[{\"marker\":{\"pattern\":{\"fillmode\":\"overlay\",\"size\":10,\"solidity\":0.2}},\"type\":\"histogram\"}],\"scattergl\":[{\"type\":\"scattergl\",\"marker\":{\"colorbar\":{\"outlinewidth\":0,\"ticks\":\"\"}}}],\"scatter3d\":[{\"type\":\"scatter3d\",\"line\":{\"colorbar\":{\"outlinewidth\":0,\"ticks\":\"\"}},\"marker\":{\"colorbar\":{\"outlinewidth\":0,\"ticks\":\"\"}}}],\"scattermapbox\":[{\"type\":\"scattermapbox\",\"marker\":{\"colorbar\":{\"outlinewidth\":0,\"ticks\":\"\"}}}],\"scatterternary\":[{\"type\":\"scatterternary\",\"marker\":{\"colorbar\":{\"outlinewidth\":0,\"ticks\":\"\"}}}],\"scattercarpet\":[{\"type\":\"scattercarpet\",\"marker\":{\"colorbar\":{\"outlinewidth\":0,\"ticks\":\"\"}}}],\"carpet\":[{\"aaxis\":{\"endlinecolor\":\"#2a3f5f\",\"gridcolor\":\"white\",\"linecolor\":\"white\",\"minorgridcolor\":\"white\",\"startlinecolor\":\"#2a3f5f\"},\"baxis\":{\"endlinecolor\":\"#2a3f5f\",\"gridcolor\":\"white\",\"linecolor\":\"white\",\"minorgridcolor\":\"white\",\"startlinecolor\":\"#2a3f5f\"},\"type\":\"carpet\"}],\"table\":[{\"cells\":{\"fill\":{\"color\":\"#EBF0F8\"},\"line\":{\"color\":\"white\"}},\"header\":{\"fill\":{\"color\":\"#C8D4E3\"},\"line\":{\"color\":\"white\"}},\"type\":\"table\"}],\"barpolar\":[{\"marker\":{\"line\":{\"color\":\"#E5ECF6\",\"width\":0.5},\"pattern\":{\"fillmode\":\"overlay\",\"size\":10,\"solidity\":0.2}},\"type\":\"barpolar\"}],\"pie\":[{\"automargin\":true,\"type\":\"pie\"}]},\"layout\":{\"autotypenumbers\":\"strict\",\"colorway\":[\"#636efa\",\"#EF553B\",\"#00cc96\",\"#ab63fa\",\"#FFA15A\",\"#19d3f3\",\"#FF6692\",\"#B6E880\",\"#FF97FF\",\"#FECB52\"],\"font\":{\"color\":\"#2a3f5f\"},\"hovermode\":\"closest\",\"hoverlabel\":{\"align\":\"left\"},\"paper_bgcolor\":\"white\",\"plot_bgcolor\":\"#E5ECF6\",\"polar\":{\"bgcolor\":\"#E5ECF6\",\"angularaxis\":{\"gridcolor\":\"white\",\"linecolor\":\"white\",\"ticks\":\"\"},\"radialaxis\":{\"gridcolor\":\"white\",\"linecolor\":\"white\",\"ticks\":\"\"}},\"ternary\":{\"bgcolor\":\"#E5ECF6\",\"aaxis\":{\"gridcolor\":\"white\",\"linecolor\":\"white\",\"ticks\":\"\"},\"baxis\":{\"gridcolor\":\"white\",\"linecolor\":\"white\",\"ticks\":\"\"},\"caxis\":{\"gridcolor\":\"white\",\"linecolor\":\"white\",\"ticks\":\"\"}},\"coloraxis\":{\"colorbar\":{\"outlinewidth\":0,\"ticks\":\"\"}},\"colorscale\":{\"sequential\":[[0.0,\"#0d0887\"],[0.1111111111111111,\"#46039f\"],[0.2222222222222222,\"#7201a8\"],[0.3333333333333333,\"#9c179e\"],[0.4444444444444444,\"#bd3786\"],[0.5555555555555556,\"#d8576b\"],[0.6666666666666666,\"#ed7953\"],[0.7777777777777778,\"#fb9f3a\"],[0.8888888888888888,\"#fdca26\"],[1.0,\"#f0f921\"]],\"sequentialminus\":[[0.0,\"#0d0887\"],[0.1111111111111111,\"#46039f\"],[0.2222222222222222,\"#7201a8\"],[0.3333333333333333,\"#9c179e\"],[0.4444444444444444,\"#bd3786\"],[0.5555555555555556,\"#d8576b\"],[0.6666666666666666,\"#ed7953\"],[0.7777777777777778,\"#fb9f3a\"],[0.8888888888888888,\"#fdca26\"],[1.0,\"#f0f921\"]],\"diverging\":[[0,\"#8e0152\"],[0.1,\"#c51b7d\"],[0.2,\"#de77ae\"],[0.3,\"#f1b6da\"],[0.4,\"#fde0ef\"],[0.5,\"#f7f7f7\"],[0.6,\"#e6f5d0\"],[0.7,\"#b8e186\"],[0.8,\"#7fbc41\"],[0.9,\"#4d9221\"],[1,\"#276419\"]]},\"xaxis\":{\"gridcolor\":\"white\",\"linecolor\":\"white\",\"ticks\":\"\",\"title\":{\"standoff\":15},\"zerolinecolor\":\"white\",\"automargin\":true,\"zerolinewidth\":2},\"yaxis\":{\"gridcolor\":\"white\",\"linecolor\":\"white\",\"ticks\":\"\",\"title\":{\"standoff\":15},\"zerolinecolor\":\"white\",\"automargin\":true,\"zerolinewidth\":2},\"scene\":{\"xaxis\":{\"backgroundcolor\":\"#E5ECF6\",\"gridcolor\":\"white\",\"linecolor\":\"white\",\"showbackground\":true,\"ticks\":\"\",\"zerolinecolor\":\"white\",\"gridwidth\":2},\"yaxis\":{\"backgroundcolor\":\"#E5ECF6\",\"gridcolor\":\"white\",\"linecolor\":\"white\",\"showbackground\":true,\"ticks\":\"\",\"zerolinecolor\":\"white\",\"gridwidth\":2},\"zaxis\":{\"backgroundcolor\":\"#E5ECF6\",\"gridcolor\":\"white\",\"linecolor\":\"white\",\"showbackground\":true,\"ticks\":\"\",\"zerolinecolor\":\"white\",\"gridwidth\":2}},\"shapedefaults\":{\"line\":{\"color\":\"#2a3f5f\"}},\"annotationdefaults\":{\"arrowcolor\":\"#2a3f5f\",\"arrowhead\":0,\"arrowwidth\":1},\"geo\":{\"bgcolor\":\"white\",\"landcolor\":\"#E5ECF6\",\"subunitcolor\":\"white\",\"showland\":true,\"showlakes\":true,\"lakecolor\":\"white\"},\"title\":{\"x\":0.05},\"mapbox\":{\"style\":\"light\"}}},\"xaxis\":{\"anchor\":\"y\",\"domain\":[0.0,1.0],\"matches\":\"x4\",\"showticklabels\":false,\"visible\":false,\"range\":[0,10]},\"yaxis\":{\"anchor\":\"x\",\"domain\":[0.3999999999999999,0.9999999999999999],\"title\":{\"text\":\"Distance (cityblock)\"}},\"xaxis2\":{\"anchor\":\"y2\",\"domain\":[0.0,1.0],\"matches\":\"x4\",\"showticklabels\":false,\"visible\":false},\"yaxis2\":{\"anchor\":\"x2\",\"domain\":[0.3399999999999999,0.3799999999999999]},\"xaxis3\":{\"anchor\":\"y3\",\"domain\":[0.0,1.0],\"matches\":\"x4\",\"showticklabels\":false,\"visible\":false},\"yaxis3\":{\"anchor\":\"x3\",\"domain\":[0.25999999999999995,0.31999999999999995]},\"xaxis4\":{\"anchor\":\"y4\",\"domain\":[0.0,1.0],\"visible\":false,\"showline\":true,\"linecolor\":\"grey\",\"linewidth\":1,\"mirror\":true},\"yaxis4\":{\"anchor\":\"x4\",\"domain\":[0.0,0.23999999999999996],\"title\":{\"text\":\"Vgsc mutations\"},\"showline\":true,\"linecolor\":\"grey\",\"linewidth\":1,\"mirror\":true},\"title\":{\"text\":\"test-agvampir | Vgsc diplotype clustering\"},\"width\":800,\"height\":520,\"hovermode\":\"closest\",\"plot_bgcolor\":\"white\",\"shapes\":[{\"line\":{\"color\":\"grey\",\"width\":1},\"type\":\"line\",\"x0\":0,\"x1\":1,\"xref\":\"x4 domain\",\"y0\":-0.5,\"y1\":-0.5,\"yref\":\"y4\"},{\"line\":{\"color\":\"grey\",\"width\":1},\"type\":\"line\",\"x0\":0,\"x1\":1,\"xref\":\"x4 domain\",\"y0\":0.5,\"y1\":0.5,\"yref\":\"y4\"},{\"line\":{\"color\":\"grey\",\"width\":1},\"type\":\"line\",\"x0\":0,\"x1\":1,\"xref\":\"x4 domain\",\"y0\":1.5,\"y1\":1.5,\"yref\":\"y4\"},{\"line\":{\"color\":\"grey\",\"width\":1},\"type\":\"line\",\"x0\":0,\"x1\":1,\"xref\":\"x4 domain\",\"y0\":2.5,\"y1\":2.5,\"yref\":\"y4\"},{\"line\":{\"color\":\"grey\",\"width\":1},\"type\":\"line\",\"x0\":0,\"x1\":1,\"xref\":\"x4 domain\",\"y0\":3.5,\"y1\":3.5,\"yref\":\"y4\"},{\"line\":{\"color\":\"grey\",\"width\":1},\"type\":\"line\",\"x0\":0,\"x1\":1,\"xref\":\"x4 domain\",\"y0\":4.5,\"y1\":4.5,\"yref\":\"y4\"},{\"line\":{\"color\":\"grey\",\"width\":1},\"type\":\"line\",\"x0\":0,\"x1\":1,\"xref\":\"x4 domain\",\"y0\":5.5,\"y1\":5.5,\"yref\":\"y4\"}]},                        {\"responsive\": true}                    ).then(function(){\n",
       "                            \n",
       "var gd = document.getElementById('72a6760a-65bf-4bc7-9944-0cb79f9f3df8');\n",
       "var x = new MutationObserver(function (mutations, observer) {{\n",
       "        var display = window.getComputedStyle(gd).display;\n",
       "        if (!display || display === 'none') {{\n",
       "            console.log([gd, 'removed!']);\n",
       "            Plotly.purge(gd);\n",
       "            observer.disconnect();\n",
       "        }}\n",
       "}});\n",
       "\n",
       "// Listen for the removal of the full notebook cells\n",
       "var notebookContainer = gd.closest('#notebook-container');\n",
       "if (notebookContainer) {{\n",
       "    x.observe(notebookContainer, {childList: true});\n",
       "}}\n",
       "\n",
       "// Listen for the clearing of the current output cell\n",
       "var outputEl = gd.closest('.output');\n",
       "if (outputEl) {{\n",
       "    x.observe(outputEl, {childList: true});\n",
       "}}\n",
       "\n",
       "                        })                };                });            </script>        </div>"
      ]
     },
     "metadata": {},
     "output_type": "display_data"
    }
   ],
   "source": [
    "import plotly.graph_objects as go\n",
    "\n",
    "kdr_leaf_data = leaf_data.copy()\n",
    "\n",
    "figures = [fig_dendro]\n",
    "subplot_heights = [300]\n",
    "snp_row_height  = 20\n",
    "width = 800\n",
    "\n",
    "kdr_fig = px.scatter(\n",
    "    data_frame=kdr_leaf_data,\n",
    "    x=np.arange(kdr_leaf_data.shape[0]),\n",
    "    y=np.repeat(0, kdr_leaf_data.shape[0]),\n",
    "    color='kdr_origin',\n",
    "    hover_name='sample_id',\n",
    "    symbol_sequence=['square'],\n",
    "    # hover_data=leaf_hover_data,\n",
    "    template='simple_white',\n",
    "    # color_discrete_map=leaf_color_discrete_map,\n",
    "    # category_orders=leaf_category_orders,\n",
    ")\n",
    "\n",
    "for f in kdr_fig.data:\n",
    "    f.legendgroup = 'kdr_origin'\n",
    "\n",
    "figures.append(kdr_fig)\n",
    "subplot_heights.append(20)\n",
    "\n",
    "# het bar\n",
    "df_het = pd.DataFrame(\n",
    "    {\"sample_id\": samples, \"Sample Heterozygosity\": geno_vgsc.is_het().sum(axis=0) / geno_vgsc.is_called().sum(axis=0)}\n",
    ").set_index(\"sample_id\")\n",
    "\n",
    "# order according to dendrogram and transpose\n",
    "df_het = df_het.loc[leaf_data.sample_id, :].T\n",
    "het_trace = go.Heatmap(\n",
    "    z=df_het,\n",
    "    y=[\"Heterozygosity\"],\n",
    "    colorscale=\"Greys\",\n",
    "    showlegend=False,\n",
    "    showscale=False,\n",
    ")\n",
    "\n",
    "figures.append(het_trace)\n",
    "subplot_heights.append(30)\n",
    "\n",
    "snp_trace = go.Heatmap(\n",
    "    z=df_vgsc_snps[::-1].values,\n",
    "    y=df_vgsc_snps[::-1].index.to_list(),\n",
    "    colorscale=\"Greys\",\n",
    "    showlegend=False,\n",
    "    showscale=False,\n",
    ")\n",
    "\n",
    "figures.append(snp_trace)\n",
    "subplot_heights.append(snp_row_height * df_vgsc_snps.shape[0])\n",
    "\n",
    "height = sum(subplot_heights) + 50\n",
    "fig = _dipclust_concat_subplots(\n",
    "    figures=figures,\n",
    "    width=width,\n",
    "    height=height,\n",
    "    row_heights=subplot_heights,\n",
    "    title=f\"{dataset} | Vgsc diplotype clustering\",\n",
    "    xaxis_range=(0, df_dists.shape[0]),\n",
    ")\n",
    "\n",
    "fig[\"layout\"][\"yaxis\"][\"title\"] = f\"Distance ({distance_metric})\"\n",
    "\n",
    "aa_idx = len(figures)\n",
    "fig.add_hline(y=-0.5, line_width=1, line_color=\"grey\", row=aa_idx, col=1)\n",
    "for i, y in enumerate(df_vgsc_snps.index.to_list()):\n",
    "    fig.add_hline(y=i+0.5, line_width=1, line_color=\"grey\", row=aa_idx, col=1)\n",
    "\n",
    "fig['layout'][f'yaxis{aa_idx}']['title']=f'Vgsc mutations'\n",
    "fig.update_xaxes(showline = True, linecolor = 'grey', linewidth = 1, row = aa_idx, col = 1, mirror = True)\n",
    "fig.update_yaxes(showline = True, linecolor = 'grey', linewidth = 1, row = aa_idx, col = 1, mirror = True)\n",
    "fig.write_image(f\"{wkdir}/results/kdr_dipclust.png\", scale=2)\n",
    "fig.show()"
   ]
  }
 ],
 "metadata": {
  "celltoolbar": "Tags",
  "kernelspec": {
   "display_name": "base",
   "language": "python",
   "name": "python3"
  },
  "language_info": {
   "codemirror_mode": {
    "name": "ipython",
    "version": 3
   },
   "file_extension": ".py",
   "mimetype": "text/x-python",
   "name": "python",
   "nbconvert_exporter": "python",
   "pygments_lexer": "ipython3",
   "version": "3.11.6"
  }
 },
 "nbformat": 4,
 "nbformat_minor": 5
}
