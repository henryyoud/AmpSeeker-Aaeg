{
 "cells": [
  {
   "cell_type": "code",
   "execution_count": 1,
   "id": "815df38c",
   "metadata": {
    "tags": [
     "remove-input"
    ]
   },
   "outputs": [],
   "source": [
    "import pandas as pd\n",
    "import plotly.express as px"
   ]
  },
  {
   "cell_type": "code",
   "execution_count": 2,
   "id": "eec7e40c",
   "metadata": {
    "tags": [
     "remove-input",
     "parameters"
    ]
   },
   "outputs": [],
   "source": [
    "metadata_path = '../../config/metadata_ms.tsv'\n",
    "wkdir = '../..'\n",
    "plate_info = False\n",
    "cohort_cols = 'location,taxon'\n",
    "\n",
    "pd.set_option(\"display.max_rows\", None)\n",
    "pd.set_option(\"display.max_columns\", None)\n",
    "pd.set_option(\"max_colwidth\", None)"
   ]
  },
  {
   "cell_type": "markdown",
   "id": "a94dc14d",
   "metadata": {},
   "source": [
    "# Run statistics"
   ]
  },
  {
   "cell_type": "code",
   "execution_count": null,
   "id": "f54b15fa",
   "metadata": {
    "tags": [
     "remove-input"
    ]
   },
   "outputs": [],
   "source": [
    "cohort_col = cohort_cols.split(\",\")[0]\n",
    "\n",
    "# load panel metadata\n",
    "if metadata_path.endswith('.xlsx'):\n",
    "    metadata = pd.read_excel(metadata_path, engine='openpyxl')\n",
    "elif metadata_path.endswith('.tsv'):\n",
    "    metadata = pd.read_csv(metadata_path, sep=\"\\t\")\n",
    "elif metadata_path.endswith('.csv'):\n",
    "    metadata = pd.read_csv(metadata_path, sep=\",\")\n",
    "else:\n",
    "    raise ValueError(\"Metadata file must be .xlsx or .csv\")\n",
    "\n",
    "import json\n",
    "with open(f\"{wkdir}/results/config/metadata_colours.json\", 'r') as f:\n",
    "    color_mapping = json.load(f)\n",
    "\n",
    "\n",
    "# load demux info \n",
    "with open(f\"{wkdir}/resources/reads/Stats/Stats.json\", \"r\") as file:\n",
    "    data = json.load(file)\n",
    "\n",
    "# Extract DemuxResults\n",
    "demux_results = []\n",
    "for conversion_result in data[\"ConversionResults\"]:\n",
    "    for demux_result in conversion_result[\"DemuxResults\"]:\n",
    "        sample_id = demux_result[\"SampleId\"]\n",
    "        number_reads = demux_result.get(\"NumberReads\", None)\n",
    "        for index_metric in demux_result[\"IndexMetrics\"]:\n",
    "            index_sequence = index_metric[\"IndexSequence\"]\n",
    "            mismatch_counts = index_metric[\"MismatchCounts\"]\n",
    "            mismatch_0 = mismatch_counts.get(\"0\", 0)  # Get mismatch count for 0\n",
    "            mismatch_1 = mismatch_counts.get(\"1\", 0)  # Get mismatch count for 1\n",
    "            demux_results.append(\n",
    "                {\n",
    "                    \"sample_id\": sample_id,\n",
    "                    \"n_reads\": number_reads,\n",
    "                    \"IndexSequence\": index_sequence,\n",
    "                    \"Mismatch_0\": mismatch_0,\n",
    "                    \"Mismatch_1\": mismatch_1,\n",
    "                }\n",
    "            )\n",
    "\n",
    "  # Extract Undetermined data\n",
    "    if \"Undetermined\" in conversion_result:\n",
    "        undetermined = conversion_result[\"Undetermined\"]\n",
    "        number_reads = undetermined.get(\"NumberReads\", None)\n",
    "        demux_results.append(\n",
    "            {\n",
    "                \"sample_id\": \"Undetermined\",\n",
    "                \"n_reads\": number_reads,\n",
    "                \"IndexSequence\": None,\n",
    "                \"Mismatch_0\": None,\n",
    "                \"Mismatch_1\": None,\n",
    "            }\n",
    "        )\n",
    "\n",
    "# Convert to DataFrame\n",
    "demultiplex_data = pd.DataFrame(demux_results).assign(pc_reads=lambda x: x[\"n_reads\"] / x[\"n_reads\"].sum()).assign(\n",
    "    pc_perfect_index=lambda x: x[\"Mismatch_0\"] / x[\"n_reads\"],\n",
    "    pc_mismatch_index=lambda x: x[\"Mismatch_1\"] / x[\"n_reads\"]\n",
    ")"
   ]
  },
  {
   "cell_type": "code",
   "execution_count": null,
   "id": "36d8c9f6",
   "metadata": {
    "scrolled": true,
    "tags": [
     "remove-input"
    ]
   },
   "outputs": [],
   "source": [
    "n_undetermined = demultiplex_data.query(\"sample_id == 'Undetermined'\")['n_reads'].to_list()[0]\n",
    "pc_undetermined = demultiplex_data.query(\"sample_id == 'Undetermined'\")['pc_reads'].to_list()[0]\n",
    "\n",
    "print(f\"There are {n_undetermined:,} undetermined reads, {pc_undetermined*100}% of all reads\")\n",
    "print(f\"There are {demultiplex_data['n_reads'].sum():,} total reads\")"
   ]
  },
  {
   "cell_type": "markdown",
   "id": "822e5f41",
   "metadata": {},
   "source": [
    "#### Total reads per sample"
   ]
  },
  {
   "cell_type": "code",
   "execution_count": null,
   "id": "a6a2de57",
   "metadata": {
    "tags": [
     "remove-input"
    ]
   },
   "outputs": [],
   "source": [
    "demultiplex_data = demultiplex_data.query(\"sample_id != 'Undetermined'\")\n",
    "demultiplex_data = metadata.merge(demultiplex_data, how='left')\n",
    "\n",
    "fig = px.bar(demultiplex_data, \n",
    "       x='sample_id', \n",
    "       y='n_reads', \n",
    "       color=cohort_col, \n",
    "       color_discrete_map=color_mapping[cohort_col],\n",
    "       title='Total reads assigned to each sample',\n",
    "       template='simple_white'\n",
    "      )\n",
    "fig.show()"
   ]
  },
  {
   "cell_type": "markdown",
   "id": "3689aca4",
   "metadata": {},
   "source": [
    "#### Percentage of perfect and mismatched index reads"
   ]
  },
  {
   "cell_type": "code",
   "execution_count": null,
   "id": "4e3e59db",
   "metadata": {
    "tags": [
     "remove-input"
    ]
   },
   "outputs": [],
   "source": [
    "fig = px.bar(demultiplex_data, \n",
    "       x='sample_id', \n",
    "       y='pc_perfect_index', \n",
    "       color=cohort_col, \n",
    "       color_discrete_map=color_mapping[cohort_col],\n",
    "       title='The % of perfect index reads',\n",
    "       template='simple_white'\n",
    "      )\n",
    "fig.show()\n",
    "\n",
    "fig = px.bar(demultiplex_data.query(\"n_reads > 100\"), \n",
    "       x='sample_id', \n",
    "       y='pc_mismatch_index', \n",
    "       color=cohort_col, \n",
    "       color_discrete_map=color_mapping[cohort_col],\n",
    "       title='The % of Index reads with one mismatch',\n",
    "       template='simple_white'\n",
    "      )\n",
    "fig.show()"
   ]
  },
  {
   "cell_type": "markdown",
   "id": "8a13e84e",
   "metadata": {},
   "source": [
    "#### The number of reads for  each i7 index"
   ]
  },
  {
   "cell_type": "code",
   "execution_count": null,
   "id": "795259ef",
   "metadata": {
    "tags": [
     "remove-input"
    ]
   },
   "outputs": [],
   "source": [
    "demultiplex_data.loc[:, 'i7'] = demultiplex_data['IndexSequence'].str.slice(0,8)\n",
    "fig = px.box(demultiplex_data, \n",
    "             x='i7', \n",
    "             y='n_reads', \n",
    "             template='simple_white',\n",
    "             color=cohort_col,\n",
    "             color_discrete_map=color_mapping[cohort_col],\n",
    "             title='Boxplot of total reads for each I7 index'\n",
    "            )\n",
    "fig.show()\n",
    "\n",
    "fig2 = px.scatter(demultiplex_data, \n",
    "           x='n_reads', \n",
    "           y='pc_perfect_index', \n",
    "           color='i7', \n",
    "           hover_data=['well_letter', 'well_number'],\n",
    "           title='The % of perfect index reads against total reads for each i7 index',\n",
    "           template='simple_white')\n",
    "\n",
    "fig2.show()"
   ]
  },
  {
   "cell_type": "code",
   "execution_count": null,
   "id": "4a580786",
   "metadata": {
    "tags": [
     "remove-input"
    ]
   },
   "outputs": [],
   "source": [
    "def plot_96well_plate(metadata, color_var='mapped_reads', title='Plate A - Number of mapped reads'):\n",
    "    fig = px.scatter(metadata[::-1], \n",
    "                     y='well_letter', \n",
    "                     x='well_number',\n",
    "                     color=color_var, \n",
    "                     hover_data=metadata.columns, \n",
    "                     template='plotly_white')\n",
    "    fig.update_traces(marker_size=40)\n",
    "    fig.update_layout(xaxis = dict(\n",
    "                                side='top',\n",
    "                                tickmode = 'linear',\n",
    "                                tick0 = 0,\n",
    "                                dtick = 1), \n",
    "                      title=title)\n",
    "    return fig\n",
    "\n",
    "\n",
    "if plate_info:\n",
    "    from IPython.display import display, Markdown\n",
    "    display(Markdown('#### Visualising edge effects'))\n",
    "    tot_per_well = demultiplex_data.groupby(['well_letter', 'well_number']).agg({'n_reads':'mean'}).reset_index()\n",
    "\n",
    "    plot_96well_plate(tot_per_well,\n",
    "                    color_var='n_reads',\n",
    "                    title=\"Visualising edge effects - total reads across i7s\")"
   ]
  }
 ],
 "metadata": {
  "celltoolbar": "Tags",
  "kernelspec": {
   "display_name": "base",
   "language": "python",
   "name": "python3"
  },
  "language_info": {
   "codemirror_mode": {
    "name": "ipython",
    "version": 3
   },
   "file_extension": ".py",
   "mimetype": "text/x-python",
   "name": "python",
   "nbconvert_exporter": "python",
   "pygments_lexer": "ipython3",
   "version": "3.11.6"
  }
 },
 "nbformat": 4,
 "nbformat_minor": 5
}
