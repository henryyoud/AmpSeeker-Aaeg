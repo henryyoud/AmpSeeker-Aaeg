{
 "cells": [
  {
   "cell_type": "code",
   "execution_count": 1,
   "metadata": {
    "tags": [
     "remove-input"
    ]
   },
   "outputs": [],
   "source": [
    "import pandas as pd\n",
    "import numpy as np\n",
    "import plotly.express as px\n",
    "\n",
    "def natural_sort( l ): \n",
    "    import re \n",
    "    \"\"\" Sort the given iterable in the way that humans expect.\"\"\" \n",
    "    convert = lambda text: int(text) if text.isdigit() else text \n",
    "    alphanum_key = lambda key: [ convert(c) for c in re.split('([0-9]+)', key) ] \n",
    "    return sorted(l, key = alphanum_key)"
   ]
  },
  {
   "cell_type": "code",
   "execution_count": 2,
   "metadata": {
    "tags": [
     "parameters",
     "remove-input"
    ]
   },
   "outputs": [],
   "source": [
    "metadata_path = '../../results/config/metadata.qcpass.tsv'\n",
    "bed_targets_path = \"../../config/ag-vampir.bed\"\n",
    "wkdir = \"../..\""
   ]
  },
  {
   "cell_type": "markdown",
   "metadata": {},
   "source": [
    "### Coverage\n",
    "\n",
    "In this notebook, we calculate coverage across the whole-genome and specifically at the SNP targets of the amplicon panel. "
   ]
  },
  {
   "cell_type": "code",
   "execution_count": 3,
   "metadata": {
    "tags": [
     "remove-input"
    ]
   },
   "outputs": [],
   "source": [
    "# load panel metadata\n",
    "if metadata_path.endswith('.xlsx'):\n",
    "\tmetadata = pd.read_excel(metadata_path, engine='openpyxl')\n",
    "elif metadata_path.endswith('.tsv'):\n",
    "\tmetadata = pd.read_csv(metadata_path, sep=\"\\t\")\n",
    "elif metadata_path.endswith('.csv'):\n",
    "\tmetadata = pd.read_csv(metadata_path, sep=\",\")\n",
    "else:\n",
    "\traise ValueError(\"Metadata file must be .xlsx or .csv\")\n",
    "\n",
    "panel_metadata = pd.read_csv(bed_targets_path, sep=\"\\t\")\n",
    "panel_metadata.columns = ['contig', 'start', 'end', 'amplicon', 'mutation', 'ref', 'alt']\n",
    "contigs = panel_metadata.contig.unique()"
   ]
  },
  {
   "cell_type": "markdown",
   "metadata": {},
   "source": [
    "#### Whole-genome\n",
    "\n",
    "Lets plot coverage across the whole genome to see if we have off-target effects!"
   ]
  },
  {
   "cell_type": "code",
   "execution_count": 4,
   "metadata": {
    "tags": [
     "remove-input"
    ]
   },
   "outputs": [],
   "source": [
    "cov_list = []\n",
    "for sample_id in metadata['sample_id']:\n",
    "    cov_df = pd.read_csv(f\"{wkdir}/results/coverage/{sample_id}.per-base.bed.gz\", sep=\"\\t\", header=None)\n",
    "    cov_df.columns = [\"contig\", \"start\", \"end\", \"depth\"]\n",
    "    cov_df = cov_df.assign(sample_id=sample_id).query(\"contig in @contigs\")\n",
    "    cov_list.append(cov_df)\n",
    "\n",
    "cov_df = pd.concat(cov_list, axis=0)\n",
    "\n",
    "total_cov_df = cov_df.groupby(['contig', 'start', 'end']).agg({'depth':'sum'}).reset_index()\n",
    "total_cov_df = total_cov_df.assign(midpoint=lambda x: ((x.start + x.end)/2).astype(int))"
   ]
  },
  {
   "cell_type": "code",
   "execution_count": null,
   "metadata": {
    "scrolled": false,
    "tags": [
     "remove-input"
    ]
   },
   "outputs": [],
   "source": [
    "for idx, contig in enumerate(contigs):\n",
    "    fig = px.scatter(\n",
    "            total_cov_df.query(\"contig == @contig\"),\n",
    "            x='midpoint', \n",
    "            y=\"depth\",\n",
    "            color_discrete_sequence=['lightsalmon'],\n",
    "            title=contig,\n",
    "            template='simple_white',\n",
    "            height=300,\n",
    "            width=750\n",
    "        )\n",
    "    \n",
    "    amp_lines = panel_metadata.query(\"contig == @contig\")[['start', 'amplicon']].drop_duplicates()\n",
    "    for idx2, row in amp_lines.iterrows():\n",
    "        fig.add_vline(x=row['start'], line_width=1, line_dash=\"dash\", opacity=0.2)\n",
    "        \n",
    "    fig.show()"
   ]
  },
  {
   "cell_type": "markdown",
   "metadata": {},
   "source": [
    "#### Coverage at each target SNP"
   ]
  },
  {
   "cell_type": "code",
   "execution_count": null,
   "metadata": {
    "tags": [
     "remove-input"
    ]
   },
   "outputs": [],
   "source": [
    "import warnings\n",
    "warnings.filterwarnings('ignore')\n",
    "\n",
    "target_covs = []\n",
    "for sample in metadata.sample_id:\n",
    "    target_cov = pd.read_csv(f\"{wkdir}/results/coverage/{sample}.regions.bed.gz\", sep=\"\\t\", header=None)\n",
    "    target_cov = target_cov.assign(sample_id=sample)\n",
    "    target_covs.append(target_cov)\n",
    "\n",
    "target_cov_df = pd.concat(target_covs, axis=0)\n",
    "target_cov_df.columns = ['contig', 'start', 'end', 'amplicon', 'depth', 'sample_id']\n",
    "target_cov_df = target_cov_df.merge(panel_metadata, how='left', on=['contig', 'start', 'end', 'amplicon'])\n",
    "snp_targets_sorted = natural_sort(target_cov_df.amplicon.unique().astype(str))"
   ]
  },
  {
   "cell_type": "code",
   "execution_count": null,
   "metadata": {
    "tags": [
     "remove-input"
    ]
   },
   "outputs": [],
   "source": [
    "# target_cov_df = target_cov_df.assign(log_depth=lambda x: np.log2(x.depth))\n",
    "fig = px.box(target_cov_df, x='amplicon', y='depth', color='contig', hover_data=['contig', 'mutation'], width=1000, template='simple_white')\n",
    "fig.update_xaxes(categoryorder='array', categoryarray= snp_targets_sorted )\n",
    "fig.show()"
   ]
  },
  {
   "cell_type": "markdown",
   "metadata": {},
   "source": [
    "#### Coverage by sample"
   ]
  },
  {
   "cell_type": "code",
   "execution_count": null,
   "metadata": {
    "tags": [
     "remove-input"
    ]
   },
   "outputs": [],
   "source": [
    "samples_cov = cov_df.groupby(['sample_id', 'contig']).agg({'depth':'sum'})\n",
    "fig = px.bar(samples_cov.reset_index(), x='sample_id', y='depth', hover_data='contig', color='contig', width=1000, template='simple_white')\n",
    "fig.show()"
   ]
  },
  {
   "cell_type": "markdown",
   "metadata": {},
   "source": [
    "#### Coverage by amplicon and sample"
   ]
  },
  {
   "cell_type": "code",
   "execution_count": null,
   "metadata": {
    "tags": [
     "remove-input"
    ]
   },
   "outputs": [],
   "source": [
    "# pivot to heatmap shape and take mean where we have multiple SNPs in one amplicon \n",
    "df = target_cov_df.pivot_table(index='amplicon', columns='sample_id', values='depth', aggfunc='mean').fillna(0).astype(int)\n",
    "# reorder amplicons alphabetical\n",
    "order = natural_sort(df.index.to_list())\n",
    "df = df.loc[order]\n",
    "\n",
    "df.to_excel(f\"{wkdir}/results/coverage/amplicon_by_sample_depth.xlsx\")\n",
    "\n",
    "from IPython.display import display, Markdown\n",
    "display(Markdown(f'<a href=\"{wkdir}/results/coverage/amplicon_by_sample_depth.xlsx\">Amplicon by sample read depth (.xlsx)</a>'))\n",
    "\n",
    "px.imshow(df, width=1000, height=1000, color_continuous_scale='blues', aspect='auto')"
   ]
  },
  {
   "cell_type": "code",
   "execution_count": null,
   "metadata": {},
   "outputs": [],
   "source": []
  },
  {
   "cell_type": "code",
   "execution_count": null,
   "metadata": {},
   "outputs": [],
   "source": []
  }
 ],
 "metadata": {
  "celltoolbar": "Tags",
  "kernelspec": {
   "display_name": "3b1c9fccc6ddcee649a430b64373b071_",
   "language": "python",
   "name": "python3"
  },
  "language_info": {
   "codemirror_mode": {
    "name": "ipython",
    "version": 3
   },
   "file_extension": ".py",
   "mimetype": "text/x-python",
   "name": "python",
   "nbconvert_exporter": "python",
   "pygments_lexer": "ipython3",
   "version": "3.12.7"
  }
 },
 "nbformat": 4,
 "nbformat_minor": 2
}
