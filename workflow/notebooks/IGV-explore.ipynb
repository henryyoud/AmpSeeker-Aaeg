{
 "cells": [
  {
   "cell_type": "code",
   "execution_count": null,
   "id": "3c3e3b17",
   "metadata": {
    "tags": [
     "remove-input"
    ]
   },
   "outputs": [],
   "source": [
    "import igv_notebook\n",
    "import pandas as pd"
   ]
  },
  {
   "cell_type": "code",
   "execution_count": null,
   "id": "5c602cfc",
   "metadata": {
    "tags": [
     "parameters",
     "remove-input"
    ]
   },
   "outputs": [],
   "source": [
    "wkdir = '../..'\n",
    "genome_name =  'Anopheles gambiae (PEST)'\n",
    "reference_fasta = f\"{wkdir}/resources/reference/Anopheles-gambiae-PEST_CHROMOSOMES_AgamP4.fa\"\n",
    "reference_index = f\"{wkdir}/resources/reference/Anopheles-gambiae-PEST_CHROMOSOMES_AgamP4.fa.fai\"\n",
    "path_to_gff3 = f'{wkdir}/resources/reference/Anopheles-gambiae-PEST_BASEFEATURES_AgamP4.12.gff3'\n",
    "\n",
    "bed_name = 'ag-vampir'\n",
    "path_to_bed = f\"{wkdir}/.bed\"\n",
    "region = \"2R:24,376,166-24,376,456\""
   ]
  },
  {
   "cell_type": "markdown",
   "id": "403c9b59",
   "metadata": {},
   "source": [
    "## Exploring amplicon sequencing read data in IGV\n",
    "\n",
    "In this notebook, we can explore our amplicon sequencing reads in an interactive Jupyter environment. "
   ]
  },
  {
   "cell_type": "code",
   "execution_count": null,
   "id": "eaf12f16",
   "metadata": {
    "tags": [
     "remove-input"
    ]
   },
   "outputs": [],
   "source": [
    "metadata_path = f\"{wkdir}/config/metadata.tsv\"\n",
    "if metadata_path.endswith('.xlsx'):\n",
    "    metadata = pd.read_excel(metadata_path, engine='openpyxl')\n",
    "elif metadata_path.endswith('.tsv'):\n",
    "    metadata = pd.read_csv(metadata_path, sep=\"\\t\")\n",
    "elif metadata_path.endswith('.csv'):\n",
    "    metadata = pd.read_csv(metadata_path, sep=\",\")\n",
    "else:\n",
    "    raise ValueError(\"Metadata file must be .xlsx or .csv\")\n",
    "\n",
    "samples = metadata['sample_id']\n",
    "\n",
    "config = {\n",
    "        \"reference\":{\n",
    "            \"id\": genome_name,\n",
    "            \"name\": genome_name,     \n",
    "            \"fastaURL\": reference_fasta,\n",
    "            \"indexURL\": reference_index,\n",
    "            \"tracks\": [\n",
    "                {\n",
    "                \"name\": \"Genes\",\n",
    "                \"type\":\"annotation\",\n",
    "                \"format\": \"gff3\",\n",
    "                \"url\" : path_to_gff3,\n",
    "                \"indexed\": False,\n",
    "                }\n",
    "            ]\n",
    "        },\n",
    "}"
   ]
  },
  {
   "cell_type": "code",
   "execution_count": null,
   "id": "e123c05a",
   "metadata": {
    "tags": [
     "remove-input"
    ]
   },
   "outputs": [],
   "source": [
    "igv_notebook.init()"
   ]
  },
  {
   "cell_type": "code",
   "execution_count": null,
   "id": "3ab4264c",
   "metadata": {},
   "outputs": [],
   "source": [
    "siaya_samples = samples[550:560]"
   ]
  },
  {
   "cell_type": "code",
   "execution_count": null,
   "id": "7b3706e9",
   "metadata": {
    "scrolled": false,
    "tags": [
     "remove-input"
    ]
   },
   "outputs": [],
   "source": [
    "igv_browser = igv_notebook.Browser(config)\n",
    "\n",
    "for sample in siaya_samples:\n",
    "    \n",
    "    bam_path = f\"../../results/alignments/{sample}.bam\"\n",
    "    bai_path = bam_path + \".bai\"\n",
    "    \n",
    "    igv_browser.load_track(\n",
    "        {\n",
    "            \"name\": sample,\n",
    "            \"url\": bam_path,\n",
    "            \"indexURL\": bai_path,\n",
    "            \"format\": \"bam\",\n",
    "            \"type\": \"alignment\"\n",
    "        })"
   ]
  },
  {
   "cell_type": "code",
   "execution_count": null,
   "id": "c524cf56",
   "metadata": {},
   "outputs": [],
   "source": []
  }
 ],
 "metadata": {
  "celltoolbar": "Tags",
  "kernelspec": {
   "display_name": "base",
   "language": "python",
   "name": "python3"
  },
  "language_info": {
   "codemirror_mode": {
    "name": "ipython",
    "version": 3
   },
   "file_extension": ".py",
   "mimetype": "text/x-python",
   "name": "python",
   "nbconvert_exporter": "python",
   "pygments_lexer": "ipython3",
   "version": "3.11.6"
  }
 },
 "nbformat": 4,
 "nbformat_minor": 5
}
